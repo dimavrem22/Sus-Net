{
 "cells": [
  {
   "cell_type": "code",
   "execution_count": 1,
   "metadata": {},
   "outputs": [],
   "source": [
    "from src.replay_memory import ReplayMemory\n",
    "\n",
    "\n",
    "m = ReplayMemory(max_size=4, state_size=1, sequence_size=3)"
   ]
  },
  {
   "cell_type": "code",
   "execution_count": 4,
   "metadata": {},
   "outputs": [
    {
     "data": {
      "text/plain": [
       "{3: 3, 4: 4}"
      ]
     },
     "execution_count": 4,
     "metadata": {},
     "output_type": "execute_result"
    }
   ],
   "source": [
    "m = ReplayMemory(max_size=5, state_size=1, sequence_size=3)\n",
    "\n",
    "m.add([1], 1, 1, [1], 0, 1, 0) # 2\n",
    "m.add([1], 2, 2, [1], 0, 0, 0) # 3\n",
    "m.add([1], 1, 1, [1], 0, 0, 0) # 4\n",
    "m.add([1], 1, 1, [1], 0, 0, 0) # 0\n",
    "\n",
    "\n",
    "m.add([2], 2, 2,  [2], 0, 1, 0) # 3\n",
    "\n",
    "m.sample_idx_to_buffer_idx"
   ]
  },
  {
   "cell_type": "code",
   "execution_count": 5,
   "metadata": {},
   "outputs": [
    {
     "data": {
      "text/plain": [
       "{'max_size': 5,\n",
       " 'sequence_size': 3,\n",
       " 'state_size': 1,\n",
       " 'sample_idx_to_buffer_idx': {3: 3, 4: 4},\n",
       " 'start_idxs': {},\n",
       " 'states': tensor([[1.],\n",
       "         [0.],\n",
       "         [1.],\n",
       "         [2.],\n",
       "         [1.]]),\n",
       " 'actions': tensor([[1],\n",
       "         [0],\n",
       "         [1],\n",
       "         [2],\n",
       "         [1]]),\n",
       " 'rewards': tensor([[1.],\n",
       "         [0.],\n",
       "         [1.],\n",
       "         [2.],\n",
       "         [1.]]),\n",
       " 'next_states': tensor([[1.],\n",
       "         [0.],\n",
       "         [1.],\n",
       "         [2.],\n",
       "         [1.]]),\n",
       " 'dones': tensor([[False],\n",
       "         [False],\n",
       "         [False],\n",
       "         [False],\n",
       "         [False]]),\n",
       " 'timesteps': tensor([[0],\n",
       "         [0],\n",
       "         [0],\n",
       "         [0],\n",
       "         [0]]),\n",
       " 'is_start': tensor([[False],\n",
       "         [False],\n",
       "         [ True],\n",
       "         [ True],\n",
       "         [False]]),\n",
       " 'episode_idx': tensor([[0],\n",
       "         [0],\n",
       "         [0],\n",
       "         [0],\n",
       "         [0]]),\n",
       " 'idx': 4,\n",
       " 'size': 5,\n",
       " 'ep_idx': 0}"
      ]
     },
     "execution_count": 5,
     "metadata": {},
     "output_type": "execute_result"
    }
   ],
   "source": [
    "m.__dict__"
   ]
  },
  {
   "cell_type": "code",
   "execution_count": null,
   "metadata": {},
   "outputs": [],
   "source": []
  },
  {
   "cell_type": "code",
   "execution_count": null,
   "metadata": {},
   "outputs": [],
   "source": []
  }
 ],
 "metadata": {
  "kernelspec": {
   "display_name": "rl_env",
   "language": "python",
   "name": "python3"
  },
  "language_info": {
   "codemirror_mode": {
    "name": "ipython",
    "version": 3
   },
   "file_extension": ".py",
   "mimetype": "text/x-python",
   "name": "python",
   "nbconvert_exporter": "python",
   "pygments_lexer": "ipython3",
   "version": "3.10.13"
  }
 },
 "nbformat": 4,
 "nbformat_minor": 2
}
