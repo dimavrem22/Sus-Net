{
 "cells": [
  {
   "cell_type": "code",
   "execution_count": 2,
   "metadata": {},
   "outputs": [],
   "source": [
    "from src.replay_memory import TrajectoryReplayBuffer\n",
    "\n",
    "\n",
    "m = TrajectoryReplayBuffer(max_size=10, trajectory_size=2, state_size=1)\n",
    "\n",
    "#  def add(self, state, action, reward, next_state, done, timestep):\n",
    "\n",
    "m.add([1], 1, 1, [2], 0, 0) # 2\n",
    "m.add([2], 2, 2, [3], 0,  1) # 3\n",
    "m.add([3], 3, 3, [4], 0, 2) # 4\n",
    "m.add([4], 4, 4, [5], 1, 3) # 0\n",
    "\n"
   ]
  },
  {
   "cell_type": "code",
   "execution_count": 3,
   "metadata": {},
   "outputs": [
    {
     "data": {
      "text/plain": [
       "tensor([2., 2., 2., 2., 1., 0., 0., 0., 0., 0.])"
      ]
     },
     "execution_count": 3,
     "metadata": {},
     "output_type": "execute_result"
    }
   ],
   "source": [
    "m.trajectory_lengths"
   ]
  },
  {
   "cell_type": "code",
   "execution_count": 4,
   "metadata": {},
   "outputs": [
    {
     "data": {
      "text/plain": [
       "Batch(states=tensor([[[3.],\n",
       "         [4.]],\n",
       "\n",
       "        [[2.],\n",
       "         [3.]]]), actions=tensor([[[3],\n",
       "         [4]],\n",
       "\n",
       "        [[2],\n",
       "         [3]]]), rewards=tensor([[[3.],\n",
       "         [4.]],\n",
       "\n",
       "        [[2.],\n",
       "         [3.]]]), next_states=tensor([[[4.],\n",
       "         [5.]],\n",
       "\n",
       "        [[3.],\n",
       "         [4.]]]), dones=tensor([[[False],\n",
       "         [ True]],\n",
       "\n",
       "        [[False],\n",
       "         [False]]]))"
      ]
     },
     "execution_count": 4,
     "metadata": {},
     "output_type": "execute_result"
    }
   ],
   "source": [
    "m.sample(2)"
   ]
  },
  {
   "cell_type": "code",
   "execution_count": 5,
   "metadata": {},
   "outputs": [
    {
     "data": {
      "text/plain": [
       "tensor([[1.],\n",
       "        [1.],\n",
       "        [2.],\n",
       "        [3.],\n",
       "        [4.],\n",
       "        [0.],\n",
       "        [0.],\n",
       "        [0.],\n",
       "        [0.],\n",
       "        [0.]])"
      ]
     },
     "execution_count": 5,
     "metadata": {},
     "output_type": "execute_result"
    }
   ],
   "source": [
    "m.states"
   ]
  },
  {
   "cell_type": "code",
   "execution_count": null,
   "metadata": {},
   "outputs": [],
   "source": []
  }
 ],
 "metadata": {
  "kernelspec": {
   "display_name": "rl_env",
   "language": "python",
   "name": "python3"
  },
  "language_info": {
   "codemirror_mode": {
    "name": "ipython",
    "version": 3
   },
   "file_extension": ".py",
   "mimetype": "text/x-python",
   "name": "python",
   "nbconvert_exporter": "python",
   "pygments_lexer": "ipython3",
   "version": "3.10.13"
  }
 },
 "nbformat": 4,
 "nbformat_minor": 2
}
