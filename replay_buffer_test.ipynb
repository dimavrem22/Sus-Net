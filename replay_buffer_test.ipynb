{
 "cells": [
  {
   "cell_type": "code",
   "execution_count": null,
   "metadata": {},
   "outputs": [],
   "source": [
    "from src.replay_memory import TrajectoryReplayBuffer\n",
    "\n",
    "\n",
    "m = TrajectoryReplayBuffer(max_size=10, trajectory_size=3, state_size=1)\n",
    "\n",
    "#  def add(self, state, action, reward, next_state, done, timestep):\n",
    "\n",
    "m.add([1], 1, 1, [2], 0, 0) # 2\n",
    "m.add([2], 2, 2, [3], 0,  1) # 3\n",
    "m.add([3], 3, 3, [4], 0, 2) # 4\n",
    "m.add([4], 4, 4, [5], 1, 3) # 0\n",
    "\n"
   ]
  },
  {
   "cell_type": "code",
   "execution_count": null,
   "metadata": {},
   "outputs": [],
   "source": [
    "m.trajectory_lengths"
   ]
  },
  {
   "cell_type": "code",
   "execution_count": null,
   "metadata": {},
   "outputs": [],
   "source": [
    "m.sample(2)"
   ]
  }
 ],
 "metadata": {
  "kernelspec": {
   "display_name": "rl_env",
   "language": "python",
   "name": "python3"
  },
  "language_info": {
   "codemirror_mode": {
    "name": "ipython",
    "version": 3
   },
   "file_extension": ".py",
   "mimetype": "text/x-python",
   "name": "python",
   "nbconvert_exporter": "python",
   "pygments_lexer": "ipython3",
   "version": "3.10.13"
  }
 },
 "nbformat": 4,
 "nbformat_minor": 2
}
