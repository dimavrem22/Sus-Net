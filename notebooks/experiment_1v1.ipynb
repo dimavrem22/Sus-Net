{
 "cells": [
  {
   "cell_type": "code",
   "execution_count": null,
   "metadata": {},
   "outputs": [],
   "source": [
    "import pathlib\n",
    "import sys\n",
    "import torch\n",
    "root_path = pathlib.Path().absolute().parent\n",
    "sys.path.append(str(root_path))\n",
    "\n",
    "from src.train import run_experiment, OptimizerType\n",
    "from src.models.dqn import ModelType\n",
    "from src.environment.pred_prey import ImposterTrainingGround\n",
    "from src.features.model_ready import FeaturizerType\n",
    "from src.features.component import CoordinateAgentPositionsFeaturizer, CompositeFeaturizer, OneHotAgentPositionFeaturizer\n",
    "from src.visualize import plot_experiment_metrics, setup_experiment_buttons\n",
    "\n",
    "\n",
    "torch.set_printoptions(precision=3, sci_mode=False, linewidth=200)"
   ]
  },
  {
   "cell_type": "code",
   "execution_count": null,
   "metadata": {},
   "outputs": [],
   "source": [
    "BUF_SIZE = 300_000\n",
    "N_IMPOSTERS = 1\n",
    "N_JOBS = 0\n",
    "N_CREW = 1\n",
    "SEQUENCE_SIZE = 1\n",
    "\n",
    "model_registry_path = root_path / 'model_registry'\n",
    "model_registry_path.mkdir(exist_ok=True)\n",
    "\n",
    "one_on_one_path = model_registry_path / '1v1'\n",
    "one_on_one_path.mkdir(exist_ok=True)\n",
    "\n",
    "featurizer_type = FeaturizerType.FLAT\n",
    "\n",
    "experiments = [\n",
    "    'no_wall_coord_features',\n",
    "    'wall_coord_features',\n",
    "    'one_hot_no_wall',\n",
    "    'one_hot_wall',\n",
    "]\n",
    "\n",
    "envs = {\n",
    "    'Wall': ImposterTrainingGround(n_crew=N_CREW, n_jobs=N_JOBS, debug=False, kill_reward=-3, sabotage_reward=0, end_of_game_reward=0, time_step_reward=0),\n",
    "    'No Wall': ImposterTrainingGround(n_crew=N_CREW, n_jobs=N_JOBS, debug=False, kill_reward=-3, sabotage_reward=0, end_of_game_reward=0, time_step_reward=0, include_walls=False), \n",
    "}\n",
    "\n",
    "gammas = {\n",
    "    'no_wall_coord_features': [0.9],\n",
    "    'wall_coord_features': [0.9],\n",
    "    'one_hot_no_wall': [0.9],\n",
    "    'one_hot_wall': [0.99, 0.9, 0.8],\n",
    "}\n",
    "\n",
    "featurizers = {\n",
    "    'no_wall_coord_features': FeaturizerType.build(FeaturizerType.FLAT, envs['No Wall'], featurizers=CompositeFeaturizer([CoordinateAgentPositionsFeaturizer(envs['No Wall'])])),\n",
    "    'wall_coord_features': FeaturizerType.build(FeaturizerType.FLAT, envs['Wall'], featurizers=CompositeFeaturizer([CoordinateAgentPositionsFeaturizer(envs['Wall'])])),\n",
    "    'one_hot_no_wall': FeaturizerType.build(FeaturizerType.FLAT, envs['No Wall'], featurizers=CompositeFeaturizer([OneHotAgentPositionFeaturizer(envs['No Wall'])])),\n",
    "    'one_hot_wall': FeaturizerType.build(FeaturizerType.FLAT, envs['Wall'], featurizers=CompositeFeaturizer([OneHotAgentPositionFeaturizer(envs['Wall'])])),\n",
    "}\n",
    "\n",
    "EXPERIMENTS_TO_RUN = experiments\n",
    "\n",
    "configs = []\n",
    "\n",
    "for experiment in EXPERIMENTS_TO_RUN:\n",
    "    for j, gamma in enumerate(gammas[experiment]):\n",
    "        env_idx = 'Wall' if 'wall' in experiment.lower() else 'No Wall'\n",
    "        config = {\n",
    "            'env': featurizers[experiment].env,\n",
    "            'num_steps': 1_500_000,\n",
    "            'imposter_model_args': {\n",
    "                'layer_dims': [featurizers[experiment].featurized_shape[1].item()] + [256, 128, 64, 16] + [featurizers[experiment].env.n_imposter_actions],\n",
    "            },\n",
    "            'crew_model_args': {'n_actions': featurizers[experiment].env.n_crew_actions},\n",
    "            'imposter_model_type': ModelType.MLP,\n",
    "            'crew_model_type': ModelType.RANDOM,\n",
    "            'featurizer': featurizers[experiment],\n",
    "            'sequence_length': SEQUENCE_SIZE,\n",
    "            'replay_buffer_size': BUF_SIZE,\n",
    "            'replay_prepopulate_steps': 50_000,\n",
    "            'batch_size': 8,\n",
    "            'gamma': gamma,\n",
    "            'scheduler_start_eps': 1,\n",
    "            'scheduler_end_eps': 0.05,\n",
    "            'scheduler_time_steps': 1_000_000,\n",
    "            'train_imposter': True,\n",
    "            'train_crew': False,\n",
    "            'experiment_base_dir': one_on_one_path / experiment,\n",
    "            'optimizer_type': OptimizerType.ADAM,\n",
    "            'learning_rate': 0.001,\n",
    "            'train_step_interval': 5,\n",
    "            'num_checkpoint_saves': 5,\n",
    "            \n",
    "        }\n",
    "        configs.append(config)\n"
   ]
  },
  {
   "cell_type": "code",
   "execution_count": null,
   "metadata": {},
   "outputs": [],
   "source": [
    "print('\\n'.join([str(config) for config in configs]))"
   ]
  },
  {
   "cell_type": "code",
   "execution_count": null,
   "metadata": {},
   "outputs": [],
   "source": [
    "# total = len(configs)\n",
    "# for i, config in enumerate(configs):\n",
    "#     print(f'Running experiment {i+1}/{total}')\n",
    "#     run_experiment(**config)"
   ]
  },
  {
   "cell_type": "code",
   "execution_count": null,
   "metadata": {},
   "outputs": [],
   "source": [
    "from src.visualize import plot_episode_lengths\n",
    "\n",
    "\n",
    "separator_strings = ['no_wall', 'wall']\n",
    "titles = ['Env No Wall', 'Env Wall']\n",
    "plot_episode_lengths(one_on_one_path, separator_strings, titles)"
   ]
  },
  {
   "cell_type": "code",
   "execution_count": null,
   "metadata": {},
   "outputs": [],
   "source": [
    "# for experiment in experiments:\n",
    "#     path = one_on_one_path / experiment\n",
    "#     plot_experiment_metrics(path, label_attr='gamma', label_name=\"$\\\\gamma$\")"
   ]
  },
  {
   "cell_type": "code",
   "execution_count": null,
   "metadata": {},
   "outputs": [],
   "source": [
    "setup_experiment_buttons(model_registry_path / '1v1', 'gamma', experiments, featurizers)\n"
   ]
  }
 ],
 "metadata": {
  "kernelspec": {
   "display_name": "sus_net",
   "language": "python",
   "name": "python3"
  },
  "language_info": {
   "codemirror_mode": {
    "name": "ipython",
    "version": 3
   },
   "file_extension": ".py",
   "mimetype": "text/x-python",
   "name": "python",
   "nbconvert_exporter": "python",
   "pygments_lexer": "ipython3",
   "version": "3.12.2"
  }
 },
 "nbformat": 4,
 "nbformat_minor": 2
}
