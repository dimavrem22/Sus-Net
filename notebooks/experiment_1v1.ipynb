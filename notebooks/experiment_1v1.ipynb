{
 "cells": [
  {
   "cell_type": "code",
   "execution_count": null,
   "metadata": {},
   "outputs": [],
   "source": [
    "import pathlib\n",
    "import json\n",
    "import sys\n",
    "import ipywidgets as widgets\n",
    "import torch\n",
    "root_path = pathlib.Path().absolute().parent\n",
    "sys.path.append(str(root_path))\n",
    "\n",
    "from src.train import run_experiment, OptimizerType, run_game\n",
    "from src.models.dqn import ModelType\n",
    "from src.environment.pred_prey import ImposterTrainingGround\n",
    "from src.features.model_ready import FeaturizerType\n",
    "from src.features.component import CoordinateAgentPositionsFeaturizer, CompositeFeaturizer, OneHotAgentPositionFeaturizer\n",
    "from src.visualize import plot_experiment_metrics\n",
    "\n",
    "\n",
    "torch.set_printoptions(precision=3, sci_mode=False, linewidth=200)"
   ]
  },
  {
   "cell_type": "code",
   "execution_count": null,
   "metadata": {},
   "outputs": [],
   "source": [
    "BUF_SIZE = 300_000\n",
    "N_IMPOSTERS = 1\n",
    "N_JOBS = 0\n",
    "N_CREW = 1\n",
    "SEQUENCE_SIZE = 1\n",
    "env = ImposterTrainingGround(n_crew=N_CREW, n_jobs=N_JOBS, debug=False, kill_reward=-3, sabotage_reward=0, end_of_game_reward=0, time_step_reward=0)\n",
    "\n",
    "model_registry_path = root_path / 'model_registry'\n",
    "model_registry_path.mkdir(exist_ok=True)\n",
    "\n",
    "featurizer_type = FeaturizerType.FLAT\n",
    "\n",
    "experiments = [\n",
    "    '1v1_no_wall_coord_features',\n",
    "    '1v1_wall_coord_features',\n",
    "    '1v1_one_hot_no_wall',\n",
    "    '1v1_one_hot_wall',\n",
    "]\n",
    "\n",
    "envs = {\n",
    "    'Wall': ImposterTrainingGround(n_crew=N_CREW, n_jobs=N_JOBS, debug=False, kill_reward=-3, sabotage_reward=0, end_of_game_reward=0, time_step_reward=0),\n",
    "    'No Wall': ImposterTrainingGround(n_crew=N_CREW, n_jobs=N_JOBS, debug=False, kill_reward=-3, sabotage_reward=0, end_of_game_reward=0, time_step_reward=0, include_walls=False), \n",
    "}\n",
    "\n",
    "gammas = [[0.9],[0.9],[0.9],[0.9, 0.8, 0.7]]\n",
    "\n",
    "featurizers = [\n",
    "    FeaturizerType.build(FeaturizerType.FLAT, env, featurizers=CompositeFeaturizer([CoordinateAgentPositionsFeaturizer(envs['No Wall'])])),\n",
    "    FeaturizerType.build(FeaturizerType.FLAT, env, featurizers=CompositeFeaturizer([CoordinateAgentPositionsFeaturizer(envs['Wall'])])),\n",
    "    FeaturizerType.build(FeaturizerType.FLAT, env, featurizers=CompositeFeaturizer([OneHotAgentPositionFeaturizer(envs['No Wall'])])),\n",
    "    FeaturizerType.build(FeaturizerType.FLAT, env, featurizers=CompositeFeaturizer([OneHotAgentPositionFeaturizer(envs['Wall'])])),\n",
    "]\n",
    "\n",
    "configs = []\n",
    "\n",
    "base_mlp = {\n",
    "    \"layer_dims\": [256, 128, 64, 16, env.n_imposter_actions]\n",
    "}\n",
    "\n",
    "for i, experiment in enumerate(experiments):\n",
    "    for j, gamma in enumerate(gammas[i]):\n",
    "        config = {\n",
    "            'env': featurizers[i].env,\n",
    "            'num_steps': 1_500_000,\n",
    "            'imposter_model_args': {\n",
    "                'layer_dims': [featurizers[i].featurized_shape[1].item()] + [256, 128, 64, 16, env.n_imposter_actions]\n",
    "            },\n",
    "            'crew_model_args': {'n_actions': env.n_crew_actions},\n",
    "            'imposter_model_type': ModelType.MLP,\n",
    "            'crew_model_type': ModelType.RANDOM,\n",
    "            'featurizer': featurizers[i],\n",
    "            'sequence_length': SEQUENCE_SIZE,\n",
    "            'replay_buffer_size': BUF_SIZE,\n",
    "            'replay_prepopulate_steps': 50_000,\n",
    "            'batch_size': 8,\n",
    "            'gamma': gamma,\n",
    "            'scheduler_start_eps': 1,\n",
    "            'scheduler_end_eps': 0.05,\n",
    "            'scheduler_time_steps': 1_000_000,\n",
    "            'train_imposter': True,\n",
    "            'train_crew': False,\n",
    "            'experiment_base_dir': model_registry_path / experiment,\n",
    "            'optimizer_type': OptimizerType.ADAM,\n",
    "            'learning_rate': 0.001,\n",
    "            'train_step_interval': 5,\n",
    "            'num_checkpoint_saves': 5,\n",
    "            \n",
    "        }\n",
    "        configs.append(config)\n"
   ]
  },
  {
   "cell_type": "code",
   "execution_count": null,
   "metadata": {},
   "outputs": [],
   "source": [
    "print('\\n'.join([str(config) for config in configs]))"
   ]
  },
  {
   "cell_type": "code",
   "execution_count": null,
   "metadata": {},
   "outputs": [],
   "source": [
    "# total = len(configs)\n",
    "# for i, config in enumerate(configs):\n",
    "#     print(f'Running experiment {i+1}/{total}')\n",
    "#     run_experiment(**config)"
   ]
  },
  {
   "cell_type": "code",
   "execution_count": null,
   "metadata": {},
   "outputs": [],
   "source": [
    "# imposter_model_config = {\n",
    "#     # \"layer_dims\": [imput_dim, 256,16, 16, 16, env.n_imposter_actions],\n",
    "#     'pretrained_model_path': './model_registry/1v1_imposter_no_walls/2024-04-24_11-19-34/imposter_mlp_100%.pt''\n",
    "# }\n",
    "\n",
    "# imposter_model = ModelType.build(ModelType.MLP, **imposter_model_config)\n",
    "# crew_model = ModelType.build(ModelType.RANDOM, **{'n_actions': env.n_crew_actions})\n",
    "\n",
    "# featurizer = FeaturizerType.build(FeaturizerType.FLAT, env)\n",
    "\n",
    "# run_game(env, imposter_model, crew_model, featurizer, sequence_length=1)\n",
    "\n"
   ]
  },
  {
   "cell_type": "code",
   "execution_count": null,
   "metadata": {},
   "outputs": [],
   "source": [
    "# find the most recent folder in each experiment\n",
    "ran_configs = {} # {experiment_name: config} taken from config.json file in the experiment directory\n",
    "ran_metrics = {} # {experiment_name: metrics} taken from metrics.json file in the experiment directory\n",
    "for exp in experiments:\n",
    "    dir_path = model_registry_path / exp\n",
    "    if not dir_path.exists():\n",
    "        continue\n",
    "    most_recent = sorted(dir_path.iterdir(), key=lambda x: x.name)[-1]\n",
    "    config_path = most_recent / 'config.json'\n",
    "    metrics_path = most_recent / 'metrics.json'\n",
    "    # use json.loads to load the contents of the files\n",
    "    ran_configs[exp] = json.loads(config_path.read_text())\n",
    "    ran_metrics[exp] = json.loads(metrics_path.read_text())\n",
    "    "
   ]
  },
  {
   "cell_type": "code",
   "execution_count": null,
   "metadata": {},
   "outputs": [],
   "source": [
    "# plot_experiment_metrics(model_registry_path / '1v1_one_hot_wall', label_attr='gamma', label_name=\"$\\\\gamma$\")\n",
    "# plot_experiment_metrics(model_registry_path / '1v1_one_hot_no_wall', label_attr='gamma', label_name=\"$\\\\gamma$\")\n",
    "# plot_experiment_metrics(model_registry_path / '1v1_wall_coord_features', label_attr='gamma', label_name=\"$\\\\gamma$\")\n",
    "# plot_experiment_metrics(model_registry_path / '1v1_no_wall_coord_features', label_attr='gamma', label_name=\"$\\\\gamma$\")"
   ]
  },
  {
   "cell_type": "code",
   "execution_count": null,
   "metadata": {},
   "outputs": [],
   "source": [
    "def button_callback(button):\n",
    "    for b in buttons:\n",
    "        b.disabled = True\n",
    "    \n",
    "    exp_idx = int(button.description)\n",
    "\n",
    "\n",
    "    \n",
    "    \n",
    "\n",
    "buttons = []\n",
    "for exp_id in range(len(experiments)):\n",
    "    button = widgets.Button(description=exp_id)\n",
    "    button.on_click(button_callback)\n",
    "    buttons.append(button)\n",
    "\n",
    "print('Select experiment to run')"
   ]
  }
 ],
 "metadata": {
  "kernelspec": {
   "display_name": "sus_net",
   "language": "python",
   "name": "python3"
  },
  "language_info": {
   "codemirror_mode": {
    "name": "ipython",
    "version": 3
   },
   "file_extension": ".py",
   "mimetype": "text/x-python",
   "name": "python",
   "nbconvert_exporter": "python",
   "pygments_lexer": "ipython3",
   "version": "3.12.2"
  }
 },
 "nbformat": 4,
 "nbformat_minor": 2
}
