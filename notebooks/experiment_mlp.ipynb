{
 "cells": [
  {
   "cell_type": "code",
   "execution_count": null,
   "metadata": {},
   "outputs": [],
   "source": [
    "import pathlib\n",
    "import sys\n",
    "root_path = pathlib.Path().absolute().parent\n",
    "sys.path.append(str(root_path))\n",
    "\n",
    "from src.train import run_experiment, OptimizerType\n",
    "from src.models.dqn import ModelType\n",
    "from src.environment.pred_prey import ImposterTrainingGround\n",
    "from src.features.model_ready import FeaturizerType\n",
    "from src.visualize import StateSequenceVisualizer\n",
    "\n",
    "import torch\n",
    "\n",
    "torch.set_printoptions(precision=3, sci_mode=False, linewidth=200)"
   ]
  },
  {
   "cell_type": "code",
   "execution_count": null,
   "metadata": {},
   "outputs": [],
   "source": [
    "BUF_SIZE = 300_000\n",
    "N_IMPOSTERS = 1\n",
    "N_JOBS = 0\n",
    "N_CREW = 4\n",
    "SEQUENCE_SIZE = 1\n",
    "env = ImposterTrainingGround(n_crew=N_CREW, n_jobs=N_JOBS, debug=False, kill_reward=3, sabotage_reward=1, end_of_game_reward=10, time_step_reward=0)\n",
    "\n",
    "model_registry_path = root_path / 'model_registry'\n",
    "model_registry_path.mkdir(exist_ok=True)\n",
    "tests_path = model_registry_path / 'test'\n",
    "tests_path.mkdir(exist_ok=True)"
   ]
  },
  {
   "cell_type": "code",
   "execution_count": null,
   "metadata": {},
   "outputs": [],
   "source": [
    "imput_dim = (env.flattened_state_size + env.n_agents * (env.n_rows + env.n_cols)) * SEQUENCE_SIZE\n",
    "\n",
    "imposter_model_config = {\n",
    "    \"layer_dims\": [imput_dim, 256,16, 16, 16, env.n_imposter_actions]\n",
    "}"
   ]
  },
  {
   "cell_type": "code",
   "execution_count": null,
   "metadata": {},
   "outputs": [],
   "source": [
    "env.flattened_state_size"
   ]
  },
  {
   "cell_type": "code",
   "execution_count": null,
   "metadata": {},
   "outputs": [],
   "source": [
    "run_experiment(\n",
    "    env=env, \n",
    "    num_steps=1_000_000,\n",
    "    imposter_model_args=imposter_model_config,\n",
    "    crew_model_args={'n_actions': env.n_crew_actions},\n",
    "    imposter_model_type=ModelType.MLP,\n",
    "    crew_model_type=ModelType.RANDOM,\n",
    "    featurizer_type=FeaturizerType.FLAT,\n",
    "    sequence_length = SEQUENCE_SIZE,\n",
    "    replay_buffer_size=300_000,\n",
    "    replay_prepopulate_steps=50_000,\n",
    "    batch_size=8,\n",
    "    gamma=0.99,\n",
    "    scheduler_start_eps=1,\n",
    "    scheduler_end_eps=0.05,\n",
    "    scheduler_time_steps=500_000,\n",
    "    train_imposter=True,\n",
    "    train_crew=False,\n",
    "    experiment_save_path=tests_path,\n",
    "    optimizer_type = OptimizerType.ADAM,\n",
    "    learning_rate=0.001,\n",
    "    train_step_interval=5,\n",
    "    num_checkpoint_saves=2,\n",
    ")"
   ]
  },
  {
   "cell_type": "code",
   "execution_count": null,
   "metadata": {},
   "outputs": [],
   "source": []
  }
 ],
 "metadata": {
  "kernelspec": {
   "display_name": "Python 3",
   "language": "python",
   "name": "python3"
  },
  "language_info": {
   "codemirror_mode": {
    "name": "ipython",
    "version": 3
   },
   "file_extension": ".py",
   "mimetype": "text/x-python",
   "name": "python",
   "nbconvert_exporter": "python",
   "pygments_lexer": "ipython3",
   "version": "3.12.3"
  }
 },
 "nbformat": 4,
 "nbformat_minor": 2
}
