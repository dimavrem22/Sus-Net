{
 "cells": [
  {
   "cell_type": "code",
   "execution_count": null,
   "metadata": {},
   "outputs": [],
   "source": [
    "import pathlib\n",
    "import sys\n",
    "\n",
    "sys.path.append(str(pathlib.Path().absolute().parent))\n",
    "\n",
    "from src.replay_memory import FastReplayBuffer\n",
    "from src.env import FourRoomEnvWithTagging\n",
    "from src.featurizers import PerspectiveFeaturizer, GlobalFeaturizer\n",
    "from src.visualize import StateSequenceVisualizer\n",
    "\n",
    "import torch\n",
    "\n",
    "torch.set_printoptions(precision=3, sci_mode=False, linewidth=200)\n"
   ]
  },
  {
   "cell_type": "code",
   "execution_count": null,
   "metadata": {},
   "outputs": [],
   "source": [
    "BUF_SIZE = 3000\n",
    "N_IMPOSTERS = 2\n",
    "N_JOBS = 5\n",
    "N_CREW = 4\n",
    "SEQUENCE_SIZE = 2\n",
    "DEBUG = True\n",
    "\n",
    "env = FourRoomEnvWithTagging(n_imposters=N_IMPOSTERS, n_crew=N_CREW, n_jobs=N_JOBS, debug=DEBUG)\n",
    "m = FastReplayBuffer(max_size=BUF_SIZE, state_size=env.flattened_state_size, trajectory_size=SEQUENCE_SIZE, n_agents=env.n_agents, n_imposters=N_IMPOSTERS)\n",
    "m.populate(env, 1000)"
   ]
  },
  {
   "cell_type": "code",
   "execution_count": null,
   "metadata": {},
   "outputs": [],
   "source": [
    "env.state_fields"
   ]
  },
  {
   "cell_type": "code",
   "execution_count": null,
   "metadata": {},
   "outputs": [],
   "source": [
    "batch = m.sample(1)\n",
    "\n",
    "seq_states = batch.states.squeeze(0)\n",
    "seq_imposters = batch.imposters.squeeze(0)\n",
    "\n",
    "f = GlobalFeaturizer(env, SEQUENCE_SIZE)\n",
    "f.fit(seq_states, seq_imposters)\n",
    "v = StateSequenceVisualizer(f)\n",
    "v.visualize_perspectives()"
   ]
  },
  {
   "cell_type": "code",
   "execution_count": null,
   "metadata": {},
   "outputs": [],
   "source": [
    "from src.models.dqn import SpatialDQN\n",
    "from torch import nn\n",
    "import torchinfo\n",
    "\n",
    "model = SpatialDQN(\n",
    "    input_image_size=env.n_cols,\n",
    "    non_spatial_input_size=5,\n",
    "    n_channels=[7, 9, 9],\n",
    "    strides=[1, 3, 3],\n",
    "    paddings=[\n",
    "        1, 1, 1\n",
    "    ],\n",
    "    kernel_sizes=[2, 3, 2],\n",
    "    rnn_layers=3,\n",
    "    rnn_hidden_dim=64,\n",
    "    rnn_dropout=0.2,\n",
    "    mlp_hidden_layer_dims=[16, 16],\n",
    "    n_actions=env.n_imposter_actions,\n",
    ")\n",
    "\n",
    "torchinfo.summary(model)"
   ]
  },
  {
   "cell_type": "code",
   "execution_count": null,
   "metadata": {},
   "outputs": [],
   "source": [
    "model\n",
    "\n",
    "sum(p.numel() for p in model.parameters() if p.requires_grad)"
   ]
  },
  {
   "cell_type": "code",
   "execution_count": null,
   "metadata": {},
   "outputs": [],
   "source": [
    "batch = m.sample(1)\n",
    "\n",
    "seq_states = batch.states.squeeze(0)\n",
    "seq_imposters = batch.imposters.squeeze(0)\n",
    "\n",
    "f = GlobalFeaturizer(env, SEQUENCE_SIZE)\n",
    "f.fit(seq_states, seq_imposters)\n",
    "\n",
    "# s: b, s, c, x, y\n",
    "\n",
    "for s, np in f.generator():\n",
    "\n",
    "    print(s.shape)\n",
    "    print(np.shape)\n",
    "\n",
    "\n",
    "    model(s, np)\n"
   ]
  },
  {
   "cell_type": "code",
   "execution_count": null,
   "metadata": {},
   "outputs": [],
   "source": []
  },
  {
   "cell_type": "code",
   "execution_count": null,
   "metadata": {},
   "outputs": [],
   "source": []
  }
 ],
 "metadata": {
  "kernelspec": {
   "display_name": "rl_env",
   "language": "python",
   "name": "python3"
  },
  "language_info": {
   "codemirror_mode": {
    "name": "ipython",
    "version": 3
   },
   "file_extension": ".py",
   "mimetype": "text/x-python",
   "name": "python",
   "nbconvert_exporter": "python",
   "pygments_lexer": "ipython3",
   "version": "3.12.3"
  }
 },
 "nbformat": 4,
 "nbformat_minor": 2
}
