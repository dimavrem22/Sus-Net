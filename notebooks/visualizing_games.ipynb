{
 "cells": [
  {
   "cell_type": "code",
   "execution_count": 1,
   "metadata": {},
   "outputs": [
    {
     "name": "stderr",
     "output_type": "stream",
     "text": [
      "<frozen importlib._bootstrap>:488: RuntimeWarning: Your system is avx2 capable but pygame was not built with support for it. The performance of some of your blits could be adversely affected. Consider enabling compile time detection with environment variables like PYGAME_DETECT_AVX2=1 if you are compiling without cross compilation.\n"
     ]
    }
   ],
   "source": [
    "import pathlib\n",
    "import sys\n",
    "\n",
    "root_path = pathlib.Path().absolute().parent\n",
    "sys.path.append(str(root_path))\n",
    "\n",
    "from src.env import FourRoomEnvWithTagging\n",
    "import torch\n",
    "import pygame\n",
    "from src.visualize import AmongUsVisualizer\n",
    "\n",
    "torch.set_printoptions(precision=3, sci_mode=False, linewidth=200)"
   ]
  },
  {
   "cell_type": "code",
   "execution_count": 2,
   "metadata": {},
   "outputs": [],
   "source": [
    "BUF_SIZE = 3000\n",
    "N_IMPOSTERS = 2\n",
    "N_JOBS = 5\n",
    "N_CREW = 4\n",
    "SEQUENCE_SIZE = 2\n",
    "DEBUG = True\n",
    "\n",
    "env = FourRoomEnvWithTagging(n_imposters=N_IMPOSTERS, n_crew=N_CREW, n_jobs=N_JOBS, debug=DEBUG)"
   ]
  },
  {
   "cell_type": "code",
   "execution_count": 3,
   "metadata": {},
   "outputs": [
    {
     "name": "stderr",
     "output_type": "stream",
     "text": [
      "DEBUG - \n",
      "New Game Started!\n",
      "-----------------\n",
      "    Agent Positions: [(3, 3), (7, 4), (7, 3), (3, 3), (5, 7), (6, 1)]\n",
      "    Imposters: [4 5]\n",
      "    Crew Members: [0 1 2 3]\n",
      "    Alive Agents: [ True  True  True  True  True  True]\n",
      "    Job Positions: [(6, 5), (7, 3), (5, 3), (2, 2), (5, 7)]\n",
      "    Completed Jobs: [False False False False False]\n",
      "    Tag Counts: [0 0 0 0 0 0]\n",
      "    Used Tag Actions: [False False False False False False]\n",
      "    Time Left for Tag Reset: 50\n",
      "-----------------\n",
      "        \n",
      "DEBUG - Agent 0 ([3 3]) tagged Agent 1 ([7 4])! 1's new tag count: 1\n",
      "DEBUG - Agent 3 ([3 2]) tagged Agent 2 ([7 3])! 2's new tag count: 1\n",
      "DEBUG - Agent 0 tried to tag Agent 1 but failed!\n",
      "DEBUG - Agent 5 ([6 0]) tagged Agent 4 ([6 8])! 4's new tag count: 1\n"
     ]
    }
   ],
   "source": [
    "with AmongUsVisualizer(env) as visualizer:\n",
    "    visualizer.reset()\n",
    "    stop_game = False\n",
    "    done = False\n",
    "    paused = False\n",
    "    while not stop_game:\n",
    "        for event in pygame.event.get():\n",
    "            if event.type == pygame.QUIT or (event.type == pygame.KEYDOWN and event.key == pygame.K_ESCAPE):\n",
    "                stop_game = True\n",
    "                break\n",
    "            # pause with space\n",
    "            if event.type == pygame.KEYDOWN and event.key == pygame.K_SPACE:\n",
    "                paused = not paused\n",
    "            \n",
    "        \n",
    "        if not done and not paused:\n",
    "            actions = env.sample_actions()\n",
    "            state, reward, done, truncated, info = visualizer.step(actions)\n",
    "                \n",
    "        pygame.time.wait(1000)\n",
    "    visualizer.close()"
   ]
  },
  {
   "cell_type": "code",
   "execution_count": null,
   "metadata": {},
   "outputs": [],
   "source": []
  }
 ],
 "metadata": {
  "kernelspec": {
   "display_name": "sus_net",
   "language": "python",
   "name": "python3"
  },
  "language_info": {
   "codemirror_mode": {
    "name": "ipython",
    "version": 3
   },
   "file_extension": ".py",
   "mimetype": "text/x-python",
   "name": "python",
   "nbconvert_exporter": "python",
   "pygments_lexer": "ipython3",
   "version": "3.12.3"
  }
 },
 "nbformat": 4,
 "nbformat_minor": 2
}
