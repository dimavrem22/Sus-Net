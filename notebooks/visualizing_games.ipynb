{
 "cells": [
  {
   "cell_type": "code",
   "execution_count": null,
   "metadata": {},
   "outputs": [],
   "source": [
    "import pathlib\n",
    "import sys\n",
    "\n",
    "root_path = pathlib.Path().absolute().parent\n",
    "sys.path.append(str(root_path))\n",
    "\n",
    "from src.env import FourRoomEnvWithTagging, ImposterTrainingGround\n",
    "import torch\n",
    "import pygame\n",
    "from src.visualize import AmongUsVisualizer\n",
    "\n",
    "torch.set_printoptions(precision=3, sci_mode=False, linewidth=200)"
   ]
  },
  {
   "cell_type": "code",
   "execution_count": null,
   "metadata": {},
   "outputs": [],
   "source": [
    "BUF_SIZE = 3000\n",
    "N_IMPOSTERS = 2\n",
    "N_JOBS = 0\n",
    "N_CREW = 10\n",
    "SEQUENCE_SIZE = 2\n",
    "DEBUG = True\n",
    "\n",
    "env = ImposterTrainingGround(n_crew=N_CREW, n_jobs=N_JOBS, time_step_reward=0, kill_reward=3, sabotage_reward=2, end_of_game_reward=10, debug=DEBUG)"
   ]
  },
  {
   "cell_type": "code",
   "execution_count": null,
   "metadata": {},
   "outputs": [],
   "source": [
    "with AmongUsVisualizer(env) as visualizer:\n",
    "    visualizer.reset()\n",
    "    stop_game = False\n",
    "    done = False\n",
    "    paused = False\n",
    "    while not stop_game:\n",
    "        for event in pygame.event.get():\n",
    "            if event.type == pygame.QUIT or (event.type == pygame.KEYDOWN and event.key == pygame.K_ESCAPE):\n",
    "                stop_game = True\n",
    "                break\n",
    "            # pause with space\n",
    "            if event.type == pygame.KEYDOWN and event.key == pygame.K_SPACE:\n",
    "                paused = not paused\n",
    "            \n",
    "        \n",
    "        if not done and not paused:\n",
    "            actions = env.sample_actions()\n",
    "            state, reward, done, truncated, info = visualizer.step(actions)\n",
    "                \n",
    "        pygame.time.wait(1000)\n",
    "    visualizer.close()"
   ]
  },
  {
   "cell_type": "code",
   "execution_count": null,
   "metadata": {},
   "outputs": [],
   "source": []
  }
 ],
 "metadata": {
  "kernelspec": {
   "display_name": "sus_net",
   "language": "python",
   "name": "python3"
  },
  "language_info": {
   "codemirror_mode": {
    "name": "ipython",
    "version": 3
   },
   "file_extension": ".py",
   "mimetype": "text/x-python",
   "name": "python",
   "nbconvert_exporter": "python",
   "pygments_lexer": "ipython3",
   "version": "3.12.3"
  }
 },
 "nbformat": 4,
 "nbformat_minor": 2
}
