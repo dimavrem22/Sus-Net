{
 "cells": [
  {
   "cell_type": "code",
   "execution_count": null,
   "metadata": {},
   "outputs": [],
   "source": [
    "import pathlib\n",
    "import sys\n",
    "sys.path.append(str(pathlib.Path().absolute().parent))\n",
    "\n",
    "from src.env import FourRoomEnvWithTagging, FourRoomEnv\n",
    "\n",
    "four_room = FourRoomEnv(1, 4, 5)\n",
    "four_room_tagging = FourRoomEnvWithTagging(1, 4, 5)"
   ]
  },
  {
   "cell_type": "code",
   "execution_count": null,
   "metadata": {},
   "outputs": [],
   "source": [
    "from src.models.dqn import SpatialDQN\n",
    "from torch import nn\n",
    "\n",
    "model = SpatialDQN(\n",
    "            input_image_size=four_room_tagging.n_cols,\n",
    "            non_spatial_input_size=5,\n",
    "            n_channels=[9, 9, 9],\n",
    "            strides=[1, 1, 2],\n",
    "            paddings=[\n",
    "                2,\n",
    "                2,\n",
    "                2,\n",
    "            ],\n",
    "            kernel_sizes=[2, 3, 2],\n",
    "            rnn_layers=3,\n",
    "            rnn_hidden_dim=224,\n",
    "            rnn_dropout=0.2,\n",
    "            mlp_hidden_layer_dims=[16, 16],\n",
    "            n_actions=four_room_tagging.n_imposter_actions,\n",
    "        )"
   ]
  },
  {
   "cell_type": "code",
   "execution_count": null,
   "metadata": {},
   "outputs": [],
   "source": [
    "model"
   ]
  },
  {
   "cell_type": "code",
   "execution_count": null,
   "metadata": {},
   "outputs": [],
   "source": []
  }
 ],
 "metadata": {
  "kernelspec": {
   "display_name": "Python 3",
   "language": "python",
   "name": "python3"
  },
  "language_info": {
   "codemirror_mode": {
    "name": "ipython",
    "version": 3
   },
   "file_extension": ".py",
   "mimetype": "text/x-python",
   "name": "python",
   "nbconvert_exporter": "python",
   "pygments_lexer": "ipython3",
   "version": "3.12.3"
  }
 },
 "nbformat": 4,
 "nbformat_minor": 2
}
