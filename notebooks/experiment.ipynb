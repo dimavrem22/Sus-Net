{
 "cells": [
  {
   "cell_type": "code",
   "execution_count": null,
   "metadata": {},
   "outputs": [],
   "source": [
    "import pathlib\n",
    "import sys\n",
    "root_path = pathlib.Path().absolute().parent\n",
    "sys.path.append(str(root_path))\n",
    "\n",
    "from src.train import run_experiment, OptimizerType\n",
    "from src.models.dqn import ModelType\n",
    "from src.env import FourRoomEnvWithTagging\n",
    "from src.featurizers import FeaturizerType\n",
    "from src.metrics import SusMetrics\n",
    "\n",
    "import torch\n",
    "\n",
    "torch.set_printoptions(precision=3, sci_mode=False, linewidth=200)"
   ]
  },
  {
   "cell_type": "code",
   "execution_count": null,
   "metadata": {},
   "outputs": [],
   "source": [
    "BUF_SIZE = 3000\n",
    "N_IMPOSTERS = 1\n",
    "N_JOBS = 5\n",
    "N_CREW = 4\n",
    "SEQUENCE_SIZE = 2\n",
    "env = FourRoomEnvWithTagging(n_imposters=N_IMPOSTERS, n_crew=N_CREW, n_jobs=N_JOBS, debug=False)\n",
    "\n",
    "\n",
    "model_registry_path = root_path / 'model_registry'\n",
    "\n",
    "model_registry_path.mkdir(exist_ok=True)\n",
    "\n",
    "tests_path = model_registry_path / 'test'\n",
    "\n",
    "tests_path.mkdir(exist_ok=True)"
   ]
  },
  {
   "cell_type": "code",
   "execution_count": null,
   "metadata": {},
   "outputs": [],
   "source": [
    "imposter_model_config = {\n",
    "    \"input_image_size\": env.n_cols,\n",
    "    \"non_spatial_input_size\": 20,\n",
    "    \"n_channels\": [7, 5, 3],\n",
    "    \"strides\": [1, 1],\n",
    "    \"paddings\": [1, 1],\n",
    "    \"kernel_sizes\": [3, 3],\n",
    "    \"rnn_layers\": 3,\n",
    "    \"rnn_hidden_dim\": 64,\n",
    "    \"rnn_dropout\": 0.2,\n",
    "    \"mlp_hidden_layer_dims\": [16, 16],\n",
    "    \"n_actions\": env.n_imposter_actions,\n",
    "    \"pretrained_model_path\": None\n",
    "}\n",
    "\n",
    "crew_model_config = {\n",
    "    \"input_image_size\": env.n_cols,\n",
    "    \"non_spatial_input_size\": 20,\n",
    "    \"n_channels\": [7, 5, 3],\n",
    "    \"strides\": [1, 1],\n",
    "    \"paddings\": [1, 1],\n",
    "    \"kernel_sizes\": [3, 3],\n",
    "    \"rnn_layers\": 3,\n",
    "    \"rnn_hidden_dim\": 64,\n",
    "    \"rnn_dropout\": 0.2,\n",
    "    \"mlp_hidden_layer_dims\": [16, 16],\n",
    "    \"n_actions\": env.n_crew_actions,\n",
    "    \"pretrained_model_path\": None\n",
    "}"
   ]
  },
  {
   "cell_type": "code",
   "execution_count": null,
   "metadata": {},
   "outputs": [],
   "source": [
    "# metrics = run_experiment(\n",
    "#     env=env, \n",
    "#     num_steps=100000,\n",
    "#     imposter_model_args=imposter_model_config,\n",
    "#     crew_model_args={'n_actions': env.n_crew_actions},\n",
    "#     imposter_model_type=ModelType.SPATIAL_DQN,\n",
    "#     crew_model_type=ModelType.RANDOM,\n",
    "#     featurizer_type=FeaturizerType.GLOBAL,\n",
    "#     sequence_length = 6,\n",
    "#     replay_buffer_size=100_000,\n",
    "#     replay_prepopulate_steps=10_000,\n",
    "#     batch_size=4,\n",
    "#     gamma=0.99,\n",
    "#     scheduler_start_eps=1,\n",
    "#     scheduler_end_eps=0.05,\n",
    "#     scheduler_time_steps=1_000_000,\n",
    "#     train_imposter=True,\n",
    "#     train_crew=False,\n",
    "#     experiment_save_path=tests_path,\n",
    "#     optimizer_type = OptimizerType.ADAM,\n",
    "#     learning_rate=0.1,\n",
    "#     train_step_interval=5,\n",
    "#     num_checkpoint_saves=2,\n",
    "# )"
   ]
  },
  {
   "cell_type": "code",
   "execution_count": null,
   "metadata": {},
   "outputs": [],
   "source": [
    "# import matplotlib.pyplot as plt\n",
    "# import numpy as np\n",
    "\n",
    "# episodes = len(metrics[SusMetrics.AVG_CREW_RETURN])\n",
    "# x = np.arange(episodes)\n",
    "\n",
    "# # plt.plot(x, metrics[SusMetrics.AVG_CREW_RETURN], label='Crew Return')\n",
    "# plt.plot(x, metrics[SusMetrics.AVG_IMPOSTER_RETURN], label='Imposter Return')\n",
    "# plt.legend()"
   ]
  },
  {
   "cell_type": "code",
   "execution_count": null,
   "metadata": {},
   "outputs": [],
   "source": [
    "# run_experiment(\n",
    "#     env=env, \n",
    "#     num_steps=1000,\n",
    "#     imposter_model_args={'n_actions': env.n_imposter_actions},\n",
    "#     crew_model_args=crew_model_config,\n",
    "#     crew_model_type=ModelType.SPATIAL_DQN,\n",
    "#     imposter_model_type=ModelType.RANDOM,\n",
    "#     featurizer_type=FeaturizerType.GLOBAL,\n",
    "#     sequence_length = 3,\n",
    "#     replay_buffer_size=3000,\n",
    "#     replay_prepopulate_steps=1_000,\n",
    "#     batch_size=4,\n",
    "#     gamma=0.99,\n",
    "#     scheduler_start_eps=1,\n",
    "#     scheduler_end_eps=0.05,\n",
    "#     scheduler_time_steps=100_000,\n",
    "#     train_imposter=False,\n",
    "#     train_crew=True,\n",
    "#     experiment_save_path=tests_path,\n",
    "#     optimizer_type = OptimizerType.ADAM,\n",
    "#     learning_rate=0.001,\n",
    "#     train_step_interval=5,\n",
    "#     num_checkpoint_saves=2,\n",
    "# )"
   ]
  },
  {
   "cell_type": "code",
   "execution_count": null,
   "metadata": {},
   "outputs": [],
   "source": [
    "from src.featurizers import GlobalFeaturizer\n",
    "from src.train import run_game\n",
    "from src.models.dqn import RandomEquiprobable\n",
    "\n",
    "env = FourRoomEnvWithTagging(n_imposters=N_IMPOSTERS, n_crew=N_CREW, n_jobs=N_JOBS, debug=False)\n",
    "\n",
    "crew_model = RandomEquiprobable(env.n_crew_actions)\n",
    "imposter_model = RandomEquiprobable(env.n_imposter_actions)\n",
    "\n",
    "featurizer = GlobalFeaturizer(env)\n",
    "\n",
    "run_game(env, imposter_model, crew_model, featurizer, SEQUENCE_SIZE)"
   ]
  },
  {
   "cell_type": "code",
   "execution_count": null,
   "metadata": {},
   "outputs": [],
   "source": []
  }
 ],
 "metadata": {
  "kernelspec": {
   "display_name": "Python 3",
   "language": "python",
   "name": "python3"
  },
  "language_info": {
   "codemirror_mode": {
    "name": "ipython",
    "version": 3
   },
   "file_extension": ".py",
   "mimetype": "text/x-python",
   "name": "python",
   "nbconvert_exporter": "python",
   "pygments_lexer": "ipython3",
   "version": "3.12.2"
  }
 },
 "nbformat": 4,
 "nbformat_minor": 2
}
