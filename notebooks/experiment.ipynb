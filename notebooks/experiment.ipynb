{
 "cells": [
  {
   "cell_type": "code",
   "execution_count": 1,
   "metadata": {},
   "outputs": [
    {
     "name": "stderr",
     "output_type": "stream",
     "text": [
      "<frozen importlib._bootstrap>:488: RuntimeWarning: Your system is avx2 capable but pygame was not built with support for it. The performance of some of your blits could be adversely affected. Consider enabling compile time detection with environment variables like PYGAME_DETECT_AVX2=1 if you are compiling without cross compilation.\n"
     ]
    }
   ],
   "source": [
    "import pathlib\n",
    "import sys\n",
    "root_path = pathlib.Path().absolute().parent\n",
    "sys.path.append(str(root_path))\n",
    "\n",
    "from src.train import run_experiment, OptimizerType\n",
    "from src.models.dqn import SpatialDQN, ModelType\n",
    "from src.replay_memory import FastReplayBuffer\n",
    "from src.env import FourRoomEnvWithTagging\n",
    "from src.featurizers import FeaturizerType\n",
    "from src.visualize import StateSequenceVisualizer\n",
    "\n",
    "import torch\n",
    "\n",
    "torch.set_printoptions(precision=3, sci_mode=False, linewidth=200)"
   ]
  },
  {
   "cell_type": "code",
   "execution_count": 2,
   "metadata": {},
   "outputs": [],
   "source": [
    "BUF_SIZE = 3000\n",
    "N_IMPOSTERS = 1\n",
    "N_JOBS = 5\n",
    "N_CREW = 4\n",
    "SEQUENCE_SIZE = 2\n",
    "env = FourRoomEnvWithTagging(n_imposters=N_IMPOSTERS, n_crew=N_CREW, n_jobs=N_JOBS, debug=False)\n",
    "\n",
    "\n",
    "model_registry_path = root_path / 'model_registry'\n",
    "\n",
    "model_registry_path.mkdir(exist_ok=True)\n",
    "\n",
    "tests_path = model_registry_path / 'test'\n",
    "\n",
    "tests_path.mkdir(exist_ok=True)"
   ]
  },
  {
   "cell_type": "code",
   "execution_count": 3,
   "metadata": {},
   "outputs": [],
   "source": [
    "imposter_model_config = {\n",
    "    \"input_image_size\": env.n_cols,\n",
    "    \"non_spatial_input_size\": 20,\n",
    "    \"n_channels\": [7, 5, 3],\n",
    "    \"strides\": [1, 1],\n",
    "    \"paddings\": [1, 1],\n",
    "    \"kernel_sizes\": [3, 3],\n",
    "    \"rnn_layers\": 3,\n",
    "    \"rnn_hidden_dim\": 64,\n",
    "    \"rnn_dropout\": 0.2,\n",
    "    \"mlp_hidden_layer_dims\": [16, 16],\n",
    "    \"n_actions\": env.n_imposter_actions,\n",
    "    \"pretrained_model_path\": None\n",
    "}\n",
    "\n",
    "crew_model_config = {\n",
    "    \"input_image_size\": env.n_cols,\n",
    "    \"non_spatial_input_size\": 20,\n",
    "    \"n_channels\": [7, 5, 3],\n",
    "    \"strides\": [1, 1],\n",
    "    \"paddings\": [1, 1],\n",
    "    \"kernel_sizes\": [3, 3],\n",
    "    \"rnn_layers\": 3,\n",
    "    \"rnn_hidden_dim\": 64,\n",
    "    \"rnn_dropout\": 0.2,\n",
    "    \"mlp_hidden_layer_dims\": [16, 16],\n",
    "    \"n_actions\": env.n_crew_actions,\n",
    "    \"pretrained_model_path\": None\n",
    "}"
   ]
  },
  {
   "cell_type": "code",
   "execution_count": 4,
   "metadata": {},
   "outputs": [
    {
     "name": "stderr",
     "output_type": "stream",
     "text": [
      "  0%|          | 0/1000 [00:00<?, ?it/s]/home/jhrudd/dev/Sus-Net/src/train.py:89: UserWarning: To copy construct from a tensor, it is recommended to use sourceTensor.clone().detach() or sourceTensor.clone().detach().requires_grad_(True), rather than torch.tensor(sourceTensor).\n",
      "  actions = torch.tensor(batch.actions[team_samples, -1, agent_idx])\n",
      "/home/jhrudd/dev/Sus-Net/src/train.py:95: UserWarning: To copy construct from a tensor, it is recommended to use sourceTensor.clone().detach() or sourceTensor.clone().detach().requires_grad_(True), rather than torch.tensor(sourceTensor).\n",
      "  done_mask = torch.tensor(batch.dones[team_samples, -1]).view(-1)\n",
      "/home/jhrudd/dev/Sus-Net/src/train.py:96: UserWarning: To copy construct from a tensor, it is recommended to use sourceTensor.clone().detach() or sourceTensor.clone().detach().requires_grad_(True), rather than torch.tensor(sourceTensor).\n",
      "  rewards = torch.tensor(\n",
      "  1%|          | 11/1000 [00:00<00:09, 99.23it/s]"
     ]
    },
    {
     "name": "stdout",
     "output_type": "stream",
     "text": [
      "Model checkpoint saved to /home/jhrudd/dev/Sus-Net/model_registry/test/imposter_spatial_dqn_0.0%.pt\n"
     ]
    },
    {
     "name": "stderr",
     "output_type": "stream",
     "text": [
      "Episode: 5 | Steps: 250 | Epsilon: 0.97 | Imposter Loss: 0.01 | Crew Loss: 0.00: 100%|██████████| 1000/1000 [00:07<00:00, 139.89it/s]"
     ]
    },
    {
     "name": "stdout",
     "output_type": "stream",
     "text": [
      "Model checkpoint saved to /home/jhrudd/dev/Sus-Net/model_registry/test/imposter_dqn_100%.pt\n",
      "Average Metrics: {<SusMetrics.IMP_KILLED_CREW: 'imp_killed_crew'>: 0.8333333333333334, <SusMetrics.IMP_VOTED_OUT: 'imp_voted_out'>: 0.5, <SusMetrics.CREW_VOTED_OUT: 'crew_voted_out'>: 1.3333333333333333, <SusMetrics.SABOTAGED_JOBS: 'sabotaged_jobs'>: 0.0, <SusMetrics.COMPLETED_JOBS: 'completed_jobs'>: 1.5, <SusMetrics.TOTAL_STALEMATES: 'total_stalemates'>: 0.0, <SusMetrics.TOTAL_TIME_STEPS: 'total_time_steps'>: 158.33333333333334, <SusMetrics.IMPOSTER_WON: 'imposter_won'>: 0.5, <SusMetrics.CREW_WON: 'crew_won'>: 0.5}\n"
     ]
    },
    {
     "name": "stderr",
     "output_type": "stream",
     "text": [
      "\n"
     ]
    }
   ],
   "source": [
    "run_experiment(\n",
    "    env=env, \n",
    "    num_steps=1000,\n",
    "    imposter_model_args=imposter_model_config,\n",
    "    crew_model_args={'n_actions': env.n_crew_actions},\n",
    "    imposter_model_type=ModelType.SPATIAL_DQN,\n",
    "    crew_model_type=ModelType.RANDOM,\n",
    "    featurizer_type=FeaturizerType.GLOBAL,\n",
    "    sequence_length = 10,\n",
    "    replay_buffer_size=1_000,\n",
    "    replay_prepopulate_steps=1_000,\n",
    "    batch_size=4,\n",
    "    gamma=0.99,\n",
    "    scheduler_start_eps=1,\n",
    "    scheduler_end_eps=0.05,\n",
    "    scheduler_time_steps=100_000,\n",
    "    train_imposter=True,\n",
    "    train_crew=False,\n",
    "    experiment_save_path=tests_path,\n",
    "    optimizer_type = OptimizerType.ADAM,\n",
    "    learning_rate=0.001,\n",
    "    train_step_interval=5,\n",
    "    num_checkpoint_saves=2,\n",
    ")"
   ]
  },
  {
   "cell_type": "code",
   "execution_count": 5,
   "metadata": {},
   "outputs": [
    {
     "name": "stderr",
     "output_type": "stream",
     "text": [
      "  2%|▏         | 21/1000 [00:00<00:04, 202.22it/s]"
     ]
    },
    {
     "name": "stdout",
     "output_type": "stream",
     "text": [
      "Model checkpoint saved to /home/jhrudd/dev/Sus-Net/model_registry/test/crew_spatial_dqn_0.0%.pt\n"
     ]
    },
    {
     "name": "stderr",
     "output_type": "stream",
     "text": [
      "Episode: 3 | Steps: 150 | Epsilon: 0.98 | Imposter Loss: 0.00 | Crew Loss: 1.36: 100%|██████████| 1000/1000 [00:04<00:00, 237.53it/s]"
     ]
    },
    {
     "name": "stdout",
     "output_type": "stream",
     "text": [
      "Model checkpoint saved to /home/jhrudd/dev/Sus-Net/model_registry/test/crew_dqn_100%.pt\n",
      "Average Metrics: {<SusMetrics.IMP_KILLED_CREW: 'imp_killed_crew'>: 0.75, <SusMetrics.IMP_VOTED_OUT: 'imp_voted_out'>: 0.0, <SusMetrics.CREW_VOTED_OUT: 'crew_voted_out'>: 2.25, <SusMetrics.SABOTAGED_JOBS: 'sabotaged_jobs'>: 0.75, <SusMetrics.COMPLETED_JOBS: 'completed_jobs'>: 2.0, <SusMetrics.TOTAL_STALEMATES: 'total_stalemates'>: 0.0, <SusMetrics.TOTAL_TIME_STEPS: 'total_time_steps'>: 162.5, <SusMetrics.IMPOSTER_WON: 'imposter_won'>: 1.0, <SusMetrics.CREW_WON: 'crew_won'>: 0.0}\n"
     ]
    },
    {
     "name": "stderr",
     "output_type": "stream",
     "text": [
      "\n"
     ]
    }
   ],
   "source": [
    "run_experiment(\n",
    "    env=env, \n",
    "    num_steps=1000,\n",
    "    imposter_model_args={'n_actions': env.n_imposter_actions},\n",
    "    crew_model_args=crew_model_config,\n",
    "    crew_model_type=ModelType.SPATIAL_DQN,\n",
    "    imposter_model_type=ModelType.RANDOM,\n",
    "    featurizer_type=FeaturizerType.GLOBAL,\n",
    "    sequence_length = 3,\n",
    "    replay_buffer_size=3000,\n",
    "    replay_prepopulate_steps=1_000,\n",
    "    batch_size=4,\n",
    "    gamma=0.99,\n",
    "    scheduler_start_eps=1,\n",
    "    scheduler_end_eps=0.05,\n",
    "    scheduler_time_steps=100_000,\n",
    "    train_imposter=False,\n",
    "    train_crew=True,\n",
    "    experiment_save_path=tests_path,\n",
    "    optimizer_type = OptimizerType.ADAM,\n",
    "    learning_rate=0.001,\n",
    "    train_step_interval=5,\n",
    "    num_checkpoint_saves=2,\n",
    ")"
   ]
  },
  {
   "cell_type": "code",
   "execution_count": 6,
   "metadata": {},
   "outputs": [],
   "source": [
    "\n",
    "# THIS IS A WORKING MODEL SETUP!!!\n",
    "\n",
    "imposter_model = SpatialDQN(\n",
    "            input_image_size=env.n_cols,\n",
    "            non_spatial_input_size=23,\n",
    "            n_channels=[8, 5, 3],\n",
    "            strides=[1, 1],\n",
    "            paddings=[1, 1],\n",
    "            kernel_sizes=[3, 3],\n",
    "            rnn_layers=3,\n",
    "            rnn_hidden_dim=64,\n",
    "            rnn_dropout=0.2,\n",
    "            mlp_hidden_layer_dims=[16, 16],\n",
    "            n_actions=env.n_imposter_actions,\n",
    "        )"
   ]
  },
  {
   "cell_type": "code",
   "execution_count": null,
   "metadata": {},
   "outputs": [],
   "source": []
  }
 ],
 "metadata": {
  "kernelspec": {
   "display_name": "Python 3",
   "language": "python",
   "name": "python3"
  },
  "language_info": {
   "codemirror_mode": {
    "name": "ipython",
    "version": 3
   },
   "file_extension": ".py",
   "mimetype": "text/x-python",
   "name": "python",
   "nbconvert_exporter": "python",
   "pygments_lexer": "ipython3",
   "version": "3.12.3"
  }
 },
 "nbformat": 4,
 "nbformat_minor": 2
}
