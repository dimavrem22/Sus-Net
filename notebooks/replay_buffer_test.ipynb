{
 "cells": [
  {
   "cell_type": "code",
   "execution_count": null,
   "metadata": {},
   "outputs": [],
   "source": [
    "import pathlib\n",
    "import sys\n",
    "from gymnasium import spaces\n",
    "\n",
    "sys.path.append(str(pathlib.Path().absolute().parent))\n",
    "\n",
    "from src.replay_memory import FastReplayBuffer\n",
    "from src.env import FourRoomEnvWithTagging\n"
   ]
  },
  {
   "cell_type": "code",
   "execution_count": null,
   "metadata": {},
   "outputs": [],
   "source": [
    "BUF_SIZE = 3000\n",
    "env = FourRoomEnvWithTagging(n_imposters=2, n_crew=4, n_jobs=5)\n",
    "m = FastReplayBuffer(max_size=BUF_SIZE, state_size=env.flattened_state_size, trajectory_size=3, n_agents=env.n_agents, n_imposters=2)\n",
    "m.populate(env, 1000)"
   ]
  },
  {
   "cell_type": "code",
   "execution_count": null,
   "metadata": {},
   "outputs": [],
   "source": [
    "env.state_fields"
   ]
  },
  {
   "cell_type": "code",
   "execution_count": null,
   "metadata": {},
   "outputs": [],
   "source": [
    "from src.featurizers import SequenceStateFeaturizer\n",
    "from src.visualize import SequenceStateVisualizer\n",
    "\n",
    "batch = m.sample(1)\n",
    "\n",
    "seq_states = batch.states.squeeze(0)\n",
    "seq_imposters = batch.imposters.squeeze(0)\n",
    "\n",
    "f = SequenceStateFeaturizer(env, seq_states, seq_imposters)\n",
    "v = SequenceStateVisualizer(f)\n",
    "v.visualize_sequence()"
   ]
  },
  {
   "cell_type": "code",
   "execution_count": null,
   "metadata": {},
   "outputs": [],
   "source": [
    "import matplotlib.pyplot as plt\n",
    "import numpy as np\n",
    "import torch\n",
    "\n",
    "feature_gen = f.generator()\n",
    "\n",
    "def visualize_sequence(spatial_features, agent_idx):\n",
    "    n_seq, n_agents, _, __ = spatial_features.size()\n",
    "    fig, ax = plt.subplots(n_seq, n_agents, figsize=(n_agents * 5, n_seq * 5))\n",
    "\n",
    "    agent_labels = np.arange(n_agents)\n",
    "    agent_labels[0] = agent_idx\n",
    "    if agent_idx > 0:\n",
    "        agent_labels[agent_idx] = agent_idx - 1\n",
    "\n",
    "    for seq in range(n_seq):\n",
    "        for i, rep in enumerate(torch.unbind(spatial_features[seq, ...], dim=0)):\n",
    "            rep = np.flipud(rep.t().numpy())\n",
    "            ax[seq][i].imshow(rep)\n",
    "            ax[seq][i].set_title(f\"Agent {agent_labels[i]}\")\n",
    "        \n",
    "    fig.suptitle(f\"Agent {agent_idx}'s Perspective\", fontsize=22)\n",
    "    plt.tight_layout()\n",
    "    plt.show()\n",
    "\n",
    "\n",
    "for i in range(env.n_agents):\n",
    "    spatial_features, non_spacial_features = next(feature_gen)\n",
    "    visualize_sequence(spatial_features, i)\n",
    "    print(non_spacial_features)\n"
   ]
  }
 ],
 "metadata": {
  "kernelspec": {
   "display_name": "rl_env",
   "language": "python",
   "name": "python3"
  },
  "language_info": {
   "codemirror_mode": {
    "name": "ipython",
    "version": 3
   },
   "file_extension": ".py",
   "mimetype": "text/x-python",
   "name": "python",
   "nbconvert_exporter": "python",
   "pygments_lexer": "ipython3",
   "version": "3.10.13"
  }
 },
 "nbformat": 4,
 "nbformat_minor": 2
}
