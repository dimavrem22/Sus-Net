{
 "cells": [
  {
   "cell_type": "code",
   "execution_count": null,
   "metadata": {},
   "outputs": [],
   "source": [
    "import pathlib\n",
    "import sys\n",
    "import torch\n",
    "\n",
    "sys.path.append(str(pathlib.Path().absolute().parent))\n",
    "\n",
    "from src.replay_memory import TrajectoryReplayBuffer, FastReplayBuffer\n",
    "\n",
    "\n",
    "m = TrajectoryReplayBuffer(max_size=5, trajectory_size=3, state_size=1)\n",
    "\n",
    "#  def add(self, state, action, reward, next_state, done, timestep):\n",
    "\n",
    "m.add([1], 1, 1, [2], 0, 0) # 2\n",
    "m.add([2], 2, 2, [3], 0,  1) # 3\n",
    "m.add([3], 3, 3, [4], 0, 2) # 1\n",
    "\n",
    "print(m.sample(2))"
   ]
  },
  {
   "cell_type": "code",
   "execution_count": null,
   "metadata": {},
   "outputs": [],
   "source": [
    "m = FastReplayBuffer(max_size=5, state_size=1, trajectory_size=3)\n",
    "\n",
    "m.add([0], 1, 1, [2], 0, 1) # 2\n",
    "m.add([1], 2, 2, [3], 0, 0) # 3\n",
    "m.add([2], 3, 3, [4], 0, 0) # 3\n",
    "m.add([3], 4, 4, [5], 0, 1) # 4\n",
    "\n",
    "m.sample(2).states"
   ]
  },
  {
   "cell_type": "code",
   "execution_count": null,
   "metadata": {},
   "outputs": [],
   "source": []
  }
 ],
 "metadata": {
  "kernelspec": {
   "display_name": "rl_env",
   "language": "python",
   "name": "python3"
  },
  "language_info": {
   "codemirror_mode": {
    "name": "ipython",
    "version": 3
   },
   "file_extension": ".py",
   "mimetype": "text/x-python",
   "name": "python",
   "nbconvert_exporter": "python",
   "pygments_lexer": "ipython3",
   "version": "3.12.2"
  }
 },
 "nbformat": 4,
 "nbformat_minor": 2
}
