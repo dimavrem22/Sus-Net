{
 "cells": [
  {
   "cell_type": "code",
   "execution_count": null,
   "metadata": {},
   "outputs": [],
   "source": [
    "import pathlib\n",
    "import sys\n",
    "from gymnasium import spaces\n",
    "\n",
    "sys.path.append(str(pathlib.Path().absolute().parent))\n",
    "\n",
    "from src.replay_memory import FastReplayBuffer\n",
    "from src.env import FourRoomEnvWithTagging\n"
   ]
  },
  {
   "cell_type": "code",
   "execution_count": null,
   "metadata": {},
   "outputs": [],
   "source": [
    "# m = FastReplayBuffer(max_size=5, state_size=1, trajectory_size=3)\n",
    "\n",
    "# m.add([0], 1, 1, [2], 0, 1) # 0\n",
    "# m.add([1], 2, 2, [3], 0, 1) # 1\n",
    "# m.add([2], 3, 3, [4], 0, 0) # 2\n",
    "# m.add([3], 4, 4, [5], 0, 0) # 3\n",
    "# m.add([4], 4, 4, [5], 0, 0) # 4\n",
    "# m.add([5], 4, 4, [5], 0, 0) # 5\n",
    "# m.add([6], 4, 4, [5], 0, 1) # 6\n",
    "\n",
    "# m.sample(5).states"
   ]
  },
  {
   "cell_type": "code",
   "execution_count": null,
   "metadata": {},
   "outputs": [],
   "source": [
    "BUF_SIZE = 3000\n",
    "env = FourRoomEnvWithTagging(n_imposters=1, n_crew=4, n_jobs=5)\n",
    "m = FastReplayBuffer(max_size=BUF_SIZE, state_size=env.flattened_state_size, trajectory_size=3, n_agents=env.n_agents)\n",
    "m.populate(env, 1000)"
   ]
  },
  {
   "cell_type": "code",
   "execution_count": null,
   "metadata": {},
   "outputs": [],
   "source": [
    "batch = m.sample(5)"
   ]
  },
  {
   "cell_type": "code",
   "execution_count": null,
   "metadata": {},
   "outputs": [],
   "source": [
    "batch.agent_order"
   ]
  },
  {
   "cell_type": "code",
   "execution_count": null,
   "metadata": {},
   "outputs": [],
   "source": [
    "m.starts.sum()"
   ]
  },
  {
   "cell_type": "code",
   "execution_count": null,
   "metadata": {},
   "outputs": [],
   "source": [
    "m.dones.unique(return_counts=True)"
   ]
  },
  {
   "cell_type": "code",
   "execution_count": null,
   "metadata": {},
   "outputs": [],
   "source": [
    "m.added"
   ]
  }
 ],
 "metadata": {
  "kernelspec": {
   "display_name": "rl_env",
   "language": "python",
   "name": "python3"
  },
  "language_info": {
   "codemirror_mode": {
    "name": "ipython",
    "version": 3
   },
   "file_extension": ".py",
   "mimetype": "text/x-python",
   "name": "python",
   "nbconvert_exporter": "python",
   "pygments_lexer": "ipython3",
   "version": "3.10.13"
  }
 },
 "nbformat": 4,
 "nbformat_minor": 2
}
