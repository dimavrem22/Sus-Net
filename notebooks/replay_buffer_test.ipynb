{
 "cells": [
  {
   "cell_type": "code",
   "execution_count": null,
   "metadata": {},
   "outputs": [],
   "source": [
    "import pathlib\n",
    "import sys\n",
    "\n",
    "sys.path.append(str(pathlib.Path().absolute().parent))\n",
    "\n",
    "from src.replay_memory import FastReplayBuffer\n",
    "from src.env import FourRoomEnvWithTagging\n",
    "from src.featurizers import PerspectiveFeaturizer, GlobalFeaturizer\n",
    "from src.visualize import StateSequenceVisualizer\n",
    "\n",
    "import torch\n",
    "\n",
    "torch.set_printoptions(precision=3, sci_mode=False, linewidth=200)\n"
   ]
  },
  {
   "cell_type": "code",
   "execution_count": null,
   "metadata": {},
   "outputs": [],
   "source": [
    "BUF_SIZE = 3000\n",
    "N_IMPOSTERS = 1\n",
    "N_JOBS = 5\n",
    "N_CREW = 3\n",
    "SEQUENCE_SIZE = 2\n",
    "DEBUG = True\n",
    "\n",
    "env = FourRoomEnvWithTagging(n_imposters=N_IMPOSTERS, n_crew=N_CREW, n_jobs=N_JOBS, debug=DEBUG)\n",
    "m = FastReplayBuffer(max_size=BUF_SIZE, state_size=env.flattened_state_size, trajectory_size=SEQUENCE_SIZE, n_agents=env.n_agents, n_imposters=N_IMPOSTERS)\n",
    "m.populate(env, 100)"
   ]
  },
  {
   "cell_type": "code",
   "execution_count": null,
   "metadata": {},
   "outputs": [],
   "source": [
    "env.state_fields"
   ]
  },
  {
   "cell_type": "code",
   "execution_count": null,
   "metadata": {},
   "outputs": [],
   "source": [
    "batch = m.sample(4)\n",
    "\n",
    "seq_states = batch.states\n",
    "seq_imposters = batch.imposters\n",
    "\n",
    "fs = [GlobalFeaturizer(env), PerspectiveFeaturizer(env)]\n",
    "\n",
    "for f in fs:\n",
    "    f.fit(seq_states)\n",
    "\n",
    "[f.featurized_shape for f in fs]"
   ]
  },
  {
   "cell_type": "code",
   "execution_count": null,
   "metadata": {},
   "outputs": [],
   "source": [
    "f.featurized_shape"
   ]
  },
  {
   "cell_type": "code",
   "execution_count": null,
   "metadata": {},
   "outputs": [],
   "source": []
  }
 ],
 "metadata": {
  "kernelspec": {
   "display_name": "rl_env",
   "language": "python",
   "name": "python3"
  },
  "language_info": {
   "codemirror_mode": {
    "name": "ipython",
    "version": 3
   },
   "file_extension": ".py",
   "mimetype": "text/x-python",
   "name": "python",
   "nbconvert_exporter": "python",
   "pygments_lexer": "ipython3",
   "version": "3.12.2"
  }
 },
 "nbformat": 4,
 "nbformat_minor": 2
}
