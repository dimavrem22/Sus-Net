{
 "cells": [
  {
   "cell_type": "code",
   "execution_count": null,
   "metadata": {},
   "outputs": [],
   "source": [
    "from env import MazeEnv, MoveAction"
   ]
  },
  {
   "cell_type": "code",
   "execution_count": null,
   "metadata": {},
   "outputs": [],
   "source": [
    "m = MazeEnv(10, 2)\n",
    "m.rooms"
   ]
  },
  {
   "cell_type": "code",
   "execution_count": null,
   "metadata": {},
   "outputs": [],
   "source": [
    "m.reset()\n",
    "while True:\n",
    "    m.render()\n",
    "    action = input(\"Action: \")\n",
    "    # determine action direction based on input being w, a, s, or d\n",
    "    a = 0\n",
    "    if action == 'w':\n",
    "        a = 0\n",
    "    if action == 'a':\n",
    "        a = 2\n",
    "    if action == 's':\n",
    "        a = 1\n",
    "    if action == 'd':\n",
    "        a = 3\n",
    "    if action == 'q':\n",
    "        break\n",
    "    state, reward, done, truncated, info = m.step(MoveAction(a))\n",
    "    print(\"State: \", state)\n",
    "    if done:\n",
    "        break"
   ]
  },
  {
   "cell_type": "code",
   "execution_count": null,
   "metadata": {},
   "outputs": [],
   "source": []
  }
 ],
 "metadata": {
  "kernelspec": {
   "display_name": "Python 3",
   "language": "python",
   "name": "python3"
  },
  "language_info": {
   "codemirror_mode": {
    "name": "ipython",
    "version": 3
   },
   "file_extension": ".py",
   "mimetype": "text/x-python",
   "name": "python",
   "nbconvert_exporter": "python",
   "pygments_lexer": "ipython3",
   "version": "3.12.1"
  }
 },
 "nbformat": 4,
 "nbformat_minor": 2
}
