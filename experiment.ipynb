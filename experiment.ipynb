{
 "cells": [
  {
   "cell_type": "code",
   "execution_count": 1,
   "metadata": {},
   "outputs": [],
   "source": [
    "from env import FourRoomEnvWithTagging, Action"
   ]
  },
  {
   "cell_type": "code",
   "execution_count": 2,
   "metadata": {},
   "outputs": [],
   "source": [
    "def string_to_int_list(s):\n",
    "\n",
    "    try:\n",
    "        return [int(item.strip()) for item in s.strip().split(' ')]\n",
    "    except ValueError as e:\n",
    "        # Raise an error if any part of the string cannot be converted to an integer\n",
    "        raise ValueError(f\"Input string is improperly formatted or contains non-integer values: {s}\") from e"
   ]
  },
  {
   "cell_type": "code",
   "execution_count": 3,
   "metadata": {},
   "outputs": [],
   "source": [
    "m = FourRoomEnvWithTagging(n_imposters=1, n_crew=3, n_jobs=2)"
   ]
  },
  {
   "cell_type": "code",
   "execution_count": 4,
   "metadata": {},
   "outputs": [
    {
     "data": {
      "text/plain": [
       "([(5, 1), (1, 1), (0, 0), (7, 8)],\n",
       " [(7, 0), (8, 3)],\n",
       " array([0., 0.]),\n",
       " array([1., 1., 1., 1.]))"
      ]
     },
     "execution_count": 4,
     "metadata": {},
     "output_type": "execute_result"
    }
   ],
   "source": [
    "m.reset()\n"
   ]
  },
  {
   "cell_type": "code",
   "execution_count": 5,
   "metadata": {},
   "outputs": [
    {
     "data": {
      "image/png": "[encoded data removed]",
      "text/plain": [
       "<Figure size 640x480 with 1 Axes>"
      ]
     },
     "metadata": {},
     "output_type": "display_data"
    },
    {
     "name": "stdout",
     "output_type": "stream",
     "text": [
      "Agent 3 is tagging agent 2\n",
      "Agent 0 is tagging agent 1\n",
      "Agent 1 is tagging agent 3\n",
      "Agent 2 is tagging agent 0\n"
     ]
    },
    {
     "data": {
      "image/png": "[encoded data removed]",
      "text/plain": [
       "<Figure size 640x480 with 1 Axes>"
      ]
     },
     "metadata": {},
     "output_type": "display_data"
    },
    {
     "ename": "ValueError",
     "evalue": "Input string is improperly formatted or contains non-integer values: ",
     "output_type": "error",
     "traceback": [
      "\u001b[0;31m---------------------------------------------------------------------------\u001b[0m",
      "\u001b[0;31mValueError\u001b[0m                                Traceback (most recent call last)",
      "Cell \u001b[0;32mIn[2], line 4\u001b[0m, in \u001b[0;36mstring_to_int_list\u001b[0;34m(s)\u001b[0m\n\u001b[1;32m      3\u001b[0m \u001b[38;5;28;01mtry\u001b[39;00m:\n\u001b[0;32m----> 4\u001b[0m     \u001b[38;5;28;01mreturn\u001b[39;00m [\u001b[38;5;28mint\u001b[39m(item\u001b[38;5;241m.\u001b[39mstrip()) \u001b[38;5;28;01mfor\u001b[39;00m item \u001b[38;5;129;01min\u001b[39;00m s\u001b[38;5;241m.\u001b[39mstrip()\u001b[38;5;241m.\u001b[39msplit(\u001b[38;5;124m'\u001b[39m\u001b[38;5;124m \u001b[39m\u001b[38;5;124m'\u001b[39m)]\n\u001b[1;32m      5\u001b[0m \u001b[38;5;28;01mexcept\u001b[39;00m \u001b[38;5;167;01mValueError\u001b[39;00m \u001b[38;5;28;01mas\u001b[39;00m e:\n\u001b[1;32m      6\u001b[0m     \u001b[38;5;66;03m# Raise an error if any part of the string cannot be converted to an integer\u001b[39;00m\n",
      "Cell \u001b[0;32mIn[2], line 4\u001b[0m, in \u001b[0;36m<listcomp>\u001b[0;34m(.0)\u001b[0m\n\u001b[1;32m      3\u001b[0m \u001b[38;5;28;01mtry\u001b[39;00m:\n\u001b[0;32m----> 4\u001b[0m     \u001b[38;5;28;01mreturn\u001b[39;00m [\u001b[38;5;28;43mint\u001b[39;49m\u001b[43m(\u001b[49m\u001b[43mitem\u001b[49m\u001b[38;5;241;43m.\u001b[39;49m\u001b[43mstrip\u001b[49m\u001b[43m(\u001b[49m\u001b[43m)\u001b[49m\u001b[43m)\u001b[49m \u001b[38;5;28;01mfor\u001b[39;00m item \u001b[38;5;129;01min\u001b[39;00m s\u001b[38;5;241m.\u001b[39mstrip()\u001b[38;5;241m.\u001b[39msplit(\u001b[38;5;124m'\u001b[39m\u001b[38;5;124m \u001b[39m\u001b[38;5;124m'\u001b[39m)]\n\u001b[1;32m      5\u001b[0m \u001b[38;5;28;01mexcept\u001b[39;00m \u001b[38;5;167;01mValueError\u001b[39;00m \u001b[38;5;28;01mas\u001b[39;00m e:\n\u001b[1;32m      6\u001b[0m     \u001b[38;5;66;03m# Raise an error if any part of the string cannot be converted to an integer\u001b[39;00m\n",
      "\u001b[0;31mValueError\u001b[0m: invalid literal for int() with base 10: ''",
      "\nThe above exception was the direct cause of the following exception:\n",
      "\u001b[0;31mValueError\u001b[0m                                Traceback (most recent call last)",
      "Cell \u001b[0;32mIn[5], line 10\u001b[0m\n\u001b[1;32m      7\u001b[0m \u001b[38;5;28;01mif\u001b[39;00m a \u001b[38;5;241m==\u001b[39m \u001b[38;5;124m\"\u001b[39m\u001b[38;5;124mq\u001b[39m\u001b[38;5;124m\"\u001b[39m:\n\u001b[1;32m      8\u001b[0m     \u001b[38;5;28;01mbreak\u001b[39;00m\n\u001b[0;32m---> 10\u001b[0m actions \u001b[38;5;241m=\u001b[39m \u001b[43mstring_to_int_list\u001b[49m\u001b[43m(\u001b[49m\u001b[43ma\u001b[49m\u001b[43m)\u001b[49m\n\u001b[1;32m     11\u001b[0m state, reward, done, truncated, info \u001b[38;5;241m=\u001b[39m m\u001b[38;5;241m.\u001b[39mstep(actions)\n\u001b[1;32m     13\u001b[0m \u001b[38;5;28;01mif\u001b[39;00m done:\n",
      "Cell \u001b[0;32mIn[2], line 7\u001b[0m, in \u001b[0;36mstring_to_int_list\u001b[0;34m(s)\u001b[0m\n\u001b[1;32m      4\u001b[0m     \u001b[38;5;28;01mreturn\u001b[39;00m [\u001b[38;5;28mint\u001b[39m(item\u001b[38;5;241m.\u001b[39mstrip()) \u001b[38;5;28;01mfor\u001b[39;00m item \u001b[38;5;129;01min\u001b[39;00m s\u001b[38;5;241m.\u001b[39mstrip()\u001b[38;5;241m.\u001b[39msplit(\u001b[38;5;124m'\u001b[39m\u001b[38;5;124m \u001b[39m\u001b[38;5;124m'\u001b[39m)]\n\u001b[1;32m      5\u001b[0m \u001b[38;5;28;01mexcept\u001b[39;00m \u001b[38;5;167;01mValueError\u001b[39;00m \u001b[38;5;28;01mas\u001b[39;00m e:\n\u001b[1;32m      6\u001b[0m     \u001b[38;5;66;03m# Raise an error if any part of the string cannot be converted to an integer\u001b[39;00m\n\u001b[0;32m----> 7\u001b[0m     \u001b[38;5;28;01mraise\u001b[39;00m \u001b[38;5;167;01mValueError\u001b[39;00m(\u001b[38;5;124mf\u001b[39m\u001b[38;5;124m\"\u001b[39m\u001b[38;5;124mInput string is improperly formatted or contains non-integer values: \u001b[39m\u001b[38;5;132;01m{\u001b[39;00ms\u001b[38;5;132;01m}\u001b[39;00m\u001b[38;5;124m\"\u001b[39m) \u001b[38;5;28;01mfrom\u001b[39;00m \u001b[38;5;21;01me\u001b[39;00m\n",
      "\u001b[0;31mValueError\u001b[0m: Input string is improperly formatted or contains non-integer values: "
     ]
    }
   ],
   "source": [
    "while True:\n",
    "    m.render()\n",
    "    agent_actions = [Action.STAY] * m.n_agents\n",
    "\n",
    "    a = input(f\"Actions as space separated str of int: \")\n",
    "\n",
    "    if a == \"q\":\n",
    "        break\n",
    "\n",
    "    actions = string_to_int_list(a)\n",
    "    state, reward, done, truncated, info = m.step(actions)\n",
    "    \n",
    "    if done:\n",
    "        break"
   ]
  },
  {
   "cell_type": "code",
   "execution_count": null,
   "metadata": {},
   "outputs": [
    {
     "data": {
      "text/plain": [
       "array([1., 1., 1., 1.])"
      ]
     },
     "execution_count": 6,
     "metadata": {},
     "output_type": "execute_result"
    }
   ],
   "source": [
    "m.alive_agents"
   ]
  },
  {
   "cell_type": "code",
   "execution_count": 6,
   "metadata": {},
   "outputs": [
    {
     "name": "stdout",
     "output_type": "stream",
     "text": [
      "[0, 1, 3, 2]\n",
      "{0: [1, 3, 2], 1: [3, 2, 0], 3: [2, 0, 1], 2: [0, 1, 3]}\n"
     ]
    }
   ],
   "source": [
    "print(m.agent_state_order_list)\n",
    "print(m.agent_tag_action_map)"
   ]
  },
  {
   "cell_type": "code",
   "execution_count": 7,
   "metadata": {},
   "outputs": [
    {
     "data": {
      "text/plain": [
       "{'agent_position': (5, 1),\n",
       " 'agent_alive': 1.0,\n",
       " 'other_agent_positions': [(1, 1), (7, 8), (0, 0)],\n",
       " 'other_agents_alive': [1.0, 1.0, 1.0],\n",
       " 'completed_jobs': array([0., 0.]),\n",
       " 'job_positions': [(7, 0), (8, 3)],\n",
       " 'agent_used_tag_action': 1.0,\n",
       " 'agent_tag_count': 1.0,\n",
       " 'tag_timer': 9,\n",
       " 'other_agents_tag_counts': [1.0, 1.0, 1.0]}"
      ]
     },
     "execution_count": 7,
     "metadata": {},
     "output_type": "execute_result"
    }
   ],
   "source": [
    "m.get_agent_states()[0].__dict__"
   ]
  },
  {
   "cell_type": "code",
   "execution_count": 8,
   "metadata": {},
   "outputs": [
    {
     "data": {
      "text/plain": [
       "{'agent_position': (1, 1),\n",
       " 'agent_alive': 1.0,\n",
       " 'other_agent_positions': [(7, 8), (0, 0), (5, 1)],\n",
       " 'other_agents_alive': [1.0, 1.0, 1.0],\n",
       " 'completed_jobs': array([0., 0.]),\n",
       " 'job_positions': [(7, 0), (8, 3)],\n",
       " 'agent_used_tag_action': 1.0,\n",
       " 'agent_tag_count': 1.0,\n",
       " 'tag_timer': 9,\n",
       " 'other_agents_tag_counts': [1.0, 1.0, 1.0]}"
      ]
     },
     "execution_count": 8,
     "metadata": {},
     "output_type": "execute_result"
    }
   ],
   "source": [
    "m.get_agent_states()[1].__dict__"
   ]
  },
  {
   "cell_type": "code",
   "execution_count": 9,
   "metadata": {},
   "outputs": [
    {
     "data": {
      "text/plain": [
       "{'agent_position': (0, 0),\n",
       " 'agent_alive': 1.0,\n",
       " 'other_agent_positions': [(5, 1), (1, 1), (7, 8)],\n",
       " 'other_agents_alive': [1.0, 1.0, 1.0],\n",
       " 'completed_jobs': array([0., 0.]),\n",
       " 'job_positions': [(7, 0), (8, 3)],\n",
       " 'agent_used_tag_action': 1.0,\n",
       " 'agent_tag_count': 1.0,\n",
       " 'tag_timer': 9,\n",
       " 'other_agents_tag_counts': [1.0, 1.0, 1.0]}"
      ]
     },
     "execution_count": 9,
     "metadata": {},
     "output_type": "execute_result"
    }
   ],
   "source": [
    "m.get_agent_states()[2].__dict__"
   ]
  },
  {
   "cell_type": "code",
   "execution_count": 10,
   "metadata": {},
   "outputs": [
    {
     "data": {
      "text/plain": [
       "{'agent_position': (7, 8),\n",
       " 'agent_alive': 1.0,\n",
       " 'other_agent_positions': [(0, 0), (5, 1), (1, 1)],\n",
       " 'other_agents_alive': [1.0, 1.0, 1.0],\n",
       " 'completed_jobs': array([0., 0.]),\n",
       " 'job_positions': [(7, 0), (8, 3)],\n",
       " 'agent_used_tag_action': 1.0,\n",
       " 'agent_tag_count': 1.0,\n",
       " 'tag_timer': 9,\n",
       " 'other_agents_tag_counts': [1.0, 1.0, 1.0]}"
      ]
     },
     "execution_count": 10,
     "metadata": {},
     "output_type": "execute_result"
    }
   ],
   "source": [
    "m.get_agent_states()[3].__dict__"
   ]
  }
 ],
 "metadata": {
  "kernelspec": {
   "display_name": "Python 3",
   "language": "python",
   "name": "python3"
  },
  "language_info": {
   "codemirror_mode": {
    "name": "ipython",
    "version": 3
   },
   "file_extension": ".py",
   "mimetype": "text/x-python",
   "name": "python",
   "nbconvert_exporter": "python",
   "pygments_lexer": "ipython3",
   "version": "3.10.13"
  }
 },
 "nbformat": 4,
 "nbformat_minor": 2
}
