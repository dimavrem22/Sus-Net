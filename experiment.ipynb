{
 "cells": [
  {
   "cell_type": "code",
   "execution_count": 1,
   "metadata": {},
   "outputs": [],
   "source": [
    "from env import MazeEnv, Action"
   ]
  },
  {
   "cell_type": "code",
   "execution_count": 2,
   "metadata": {},
   "outputs": [],
   "source": [
    "def string_to_int_list(s):\n",
    "\n",
    "    try:\n",
    "        return [int(item.strip()) for item in s.strip().split(' ')]\n",
    "    except ValueError as e:\n",
    "        # Raise an error if any part of the string cannot be converted to an integer\n",
    "        raise ValueError(f\"Input string is improperly formatted or contains non-integer values: {s}\") from e"
   ]
  },
  {
   "cell_type": "code",
   "execution_count": 3,
   "metadata": {},
   "outputs": [
    {
     "name": "stdout",
     "output_type": "stream",
     "text": [
      "defaultdict(<class 'dict'>, {(0, 0): {<Action.FIX: 6>: (0, 0), None: (0, 0), <Action.LEFT: 2>: (-1, 0), <Action.SABOTAGE: 7>: (0, 0), <Action.KILL: 5>: (0, 0), <Action.RIGHT: 3>: (1, 0), <Action.DOWN: 1>: (0, 1)}, (-1, 0): {<Action.RIGHT: 3>: (0, 0), <Action.LEFT: 2>: (-2, 0), <Action.KILL: 5>: (-1, 0), None: (-1, 0), <Action.SABOTAGE: 7>: (-1, 0), <Action.FIX: 6>: (-1, 0), <Action.DOWN: 1>: (-1, 1)}, (-2, 0): {<Action.RIGHT: 3>: (-1, 0), <Action.SABOTAGE: 7>: (-2, 0), None: (-2, 0), <Action.STAY: 4>: (-2, 0), <Action.UP: 0>: (-2, -1), <Action.LEFT: 2>: (-3, 0), <Action.DOWN: 1>: (-2, 1)}, (-2, -1): {<Action.DOWN: 1>: (-2, 0), <Action.SABOTAGE: 7>: (-2, -1), None: (-2, -1), <Action.RIGHT: 3>: (-1, -1), <Action.STAY: 4>: (-2, -1)}, (-1, -1): {<Action.LEFT: 2>: (-2, -1), <Action.RIGHT: 3>: (0, -1), <Action.STAY: 4>: (-1, -1)}, (0, -1): {<Action.LEFT: 2>: (-1, -1), <Action.FIX: 6>: (0, -1), None: (0, -1), <Action.SABOTAGE: 7>: (0, -1), <Action.STAY: 4>: (0, -1), <Action.KILL: 5>: (0, -1), <Action.RIGHT: 3>: (1, -1)}, (-1, 1): {<Action.UP: 0>: (-1, 0), <Action.STAY: 4>: (-1, 1), <Action.LEFT: 2>: (-2, 1)}, (1, 0): {<Action.LEFT: 2>: (0, 0), <Action.UP: 0>: (1, -1), <Action.KILL: 5>: (1, 0), None: (1, 0)}, (-3, 0): {<Action.RIGHT: 3>: (-2, 0), <Action.FIX: 6>: (-3, 0), None: (-3, 0), <Action.UP: 0>: (-3, -1), <Action.STAY: 4>: (-3, 0)}, (-2, 1): {<Action.RIGHT: 3>: (-1, 1), <Action.SABOTAGE: 7>: (-2, 1), None: (-2, 1), <Action.FIX: 6>: (-2, 1), <Action.DOWN: 1>: (-2, 2), <Action.UP: 0>: (-2, 0)}, (1, -1): {<Action.LEFT: 2>: (0, -1), <Action.FIX: 6>: (1, -1), None: (1, -1), <Action.DOWN: 1>: (1, 0), <Action.STAY: 4>: (1, -1)}, (0, 1): {<Action.UP: 0>: (0, 0), <Action.SABOTAGE: 7>: (0, 1), None: (0, 1)}, (-3, -1): {<Action.DOWN: 1>: (-3, 0)}, (-2, 2): {<Action.UP: 0>: (-2, 1), <Action.RIGHT: 3>: (-1, 2)}, (-1, 2): {<Action.LEFT: 2>: (-2, 2)}})\n"
     ]
    },
    {
     "data": {
      "text/plain": [
       "[(0, 0),\n",
       " (-1, 0),\n",
       " (-2, 0),\n",
       " (-2, -1),\n",
       " (-1, -1),\n",
       " (0, -1),\n",
       " (-1, 1),\n",
       " (1, 0),\n",
       " (-3, 0),\n",
       " (-2, 1),\n",
       " (1, -1),\n",
       " (0, 1),\n",
       " (-3, -1),\n",
       " (-2, 2),\n",
       " (-1, 2)]"
      ]
     },
     "execution_count": 3,
     "metadata": {},
     "output_type": "execute_result"
    }
   ],
   "source": [
    "m = MazeEnv(n_rooms=15, n_imposters=1, n_crew=2, n_jobs=2)\n",
    "m.rooms"
   ]
  },
  {
   "cell_type": "code",
   "execution_count": 4,
   "metadata": {},
   "outputs": [
    {
     "data": {
      "image/png": "[encoded data removed]",
      "text/plain": [
       "<Figure size 640x480 with 1 Axes>"
      ]
     },
     "metadata": {},
     "output_type": "display_data"
    },
    {
     "name": "stdout",
     "output_type": "stream",
     "text": [
      "[<Action.KILL: 5>, <Action.KILL: 5>, <Action.KILL: 5>]\n",
      "0: Action.KILL\n",
      "1: Action.KILL\n",
      "2: Action.KILL\n",
      "State:  ([(-1, 0), (-1, 1), (-1, 0)], [(-2, 0), (1, -1), (0, 0)], array([0., 0., 0.]), array([1., 1., 0.]))\n",
      "Reward:  (array([-3.,  0., -3.]), -10)\n"
     ]
    }
   ],
   "source": [
    "m.reset()\n",
    "while True:\n",
    "    m.render()\n",
    "    agent_actions = [Action.STAY] * m.n_agents\n",
    "\n",
    "    a = input(f\"Actions as space separated str of int: \")\n",
    "\n",
    "    if a == \"q\":\n",
    "        break\n",
    "\n",
    "    actions = string_to_int_list(a)\n",
    "    actions = [Action(i) for i in actions]\n",
    "    print(actions)\n",
    "\n",
    "    state, reward, done, truncated, info = m.step(actions)\n",
    "    print(\"State: \", state)\n",
    "    print(\"Reward: \", reward)\n",
    "    \n",
    "    if done:\n",
    "        break"
   ]
  },
  {
   "cell_type": "code",
   "execution_count": null,
   "metadata": {},
   "outputs": [],
   "source": []
  }
 ],
 "metadata": {
  "kernelspec": {
   "display_name": "Python 3",
   "language": "python",
   "name": "python3"
  },
  "language_info": {
   "codemirror_mode": {
    "name": "ipython",
    "version": 3
   },
   "file_extension": ".py",
   "mimetype": "text/x-python",
   "name": "python",
   "nbconvert_exporter": "python",
   "pygments_lexer": "ipython3",
   "version": "3.10.13"
  }
 },
 "nbformat": 4,
 "nbformat_minor": 2
}
