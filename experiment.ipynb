{
 "cells": [
  {
   "cell_type": "code",
   "execution_count": 28,
   "metadata": {},
   "outputs": [],
   "source": [
    "from env import FourRoomEnvWithTagging, Action"
   ]
  },
  {
   "cell_type": "code",
   "execution_count": 29,
   "metadata": {},
   "outputs": [],
   "source": [
    "def string_to_int_list(s):\n",
    "\n",
    "    try:\n",
    "        return [int(item.strip()) for item in s.strip().split(' ')]\n",
    "    except ValueError as e:\n",
    "        # Raise an error if any part of the string cannot be converted to an integer\n",
    "        raise ValueError(f\"Input string is improperly formatted or contains non-integer values: {s}\") from e"
   ]
  },
  {
   "cell_type": "code",
   "execution_count": 30,
   "metadata": {},
   "outputs": [],
   "source": [
    "m = FourRoomEnvWithTagging(n_imposters=1, n_crew=3, n_jobs=2)"
   ]
  },
  {
   "cell_type": "code",
   "execution_count": 31,
   "metadata": {},
   "outputs": [
    {
     "data": {
      "text/plain": [
       "([(3, 8), (5, 0), (2, 1), (5, 2)],\n",
       " [(2, 1), (8, 5)],\n",
       " array([0., 0.]),\n",
       " array([1., 1., 1., 1.]))"
      ]
     },
     "execution_count": 31,
     "metadata": {},
     "output_type": "execute_result"
    }
   ],
   "source": [
    "m.reset()\n"
   ]
  },
  {
   "cell_type": "code",
   "execution_count": 32,
   "metadata": {},
   "outputs": [
    {
     "data": {
      "image/png": "[encoded data removed]",
      "text/plain": [
       "<Figure size 640x480 with 1 Axes>"
      ]
     },
     "metadata": {},
     "output_type": "display_data"
    },
    {
     "name": "stdout",
     "output_type": "stream",
     "text": [
      "Agent 3 is tagging agent 1\n",
      "Agent 1 is tagging agent 1\n",
      "Agent 2 is tagging agent 1\n",
      "Agent 0 is tagging agent 1\n"
     ]
    },
    {
     "data": {
      "image/png": "[encoded data removed]",
      "text/plain": [
       "<Figure size 640x480 with 1 Axes>"
      ]
     },
     "metadata": {},
     "output_type": "display_data"
    },
    {
     "name": "stdout",
     "output_type": "stream",
     "text": [
      "Agent 0 is performing action 3\n",
      "0: Action.RIGHT\n",
      "Agent 1 is performing action 3\n",
      "1: Action.RIGHT\n",
      "Agent 2 is performing action 3\n",
      "2: Action.RIGHT\n",
      "Agent 3 is performing action 3\n",
      "3: Action.RIGHT\n"
     ]
    },
    {
     "data": {
      "image/png": "[encoded data removed]",
      "text/plain": [
       "<Figure size 640x480 with 1 Axes>"
      ]
     },
     "metadata": {},
     "output_type": "display_data"
    },
    {
     "ename": "ValueError",
     "evalue": "Input string is improperly formatted or contains non-integer values: ",
     "output_type": "error",
     "traceback": [
      "\u001b[0;31m---------------------------------------------------------------------------\u001b[0m",
      "\u001b[0;31mValueError\u001b[0m                                Traceback (most recent call last)",
      "Cell \u001b[0;32mIn[29], line 4\u001b[0m, in \u001b[0;36mstring_to_int_list\u001b[0;34m(s)\u001b[0m\n\u001b[1;32m      3\u001b[0m \u001b[38;5;28;01mtry\u001b[39;00m:\n\u001b[0;32m----> 4\u001b[0m     \u001b[38;5;28;01mreturn\u001b[39;00m [\u001b[38;5;28mint\u001b[39m(item\u001b[38;5;241m.\u001b[39mstrip()) \u001b[38;5;28;01mfor\u001b[39;00m item \u001b[38;5;129;01min\u001b[39;00m s\u001b[38;5;241m.\u001b[39mstrip()\u001b[38;5;241m.\u001b[39msplit(\u001b[38;5;124m'\u001b[39m\u001b[38;5;124m \u001b[39m\u001b[38;5;124m'\u001b[39m)]\n\u001b[1;32m      5\u001b[0m \u001b[38;5;28;01mexcept\u001b[39;00m \u001b[38;5;167;01mValueError\u001b[39;00m \u001b[38;5;28;01mas\u001b[39;00m e:\n\u001b[1;32m      6\u001b[0m     \u001b[38;5;66;03m# Raise an error if any part of the string cannot be converted to an integer\u001b[39;00m\n",
      "Cell \u001b[0;32mIn[29], line 4\u001b[0m, in \u001b[0;36m<listcomp>\u001b[0;34m(.0)\u001b[0m\n\u001b[1;32m      3\u001b[0m \u001b[38;5;28;01mtry\u001b[39;00m:\n\u001b[0;32m----> 4\u001b[0m     \u001b[38;5;28;01mreturn\u001b[39;00m [\u001b[38;5;28;43mint\u001b[39;49m\u001b[43m(\u001b[49m\u001b[43mitem\u001b[49m\u001b[38;5;241;43m.\u001b[39;49m\u001b[43mstrip\u001b[49m\u001b[43m(\u001b[49m\u001b[43m)\u001b[49m\u001b[43m)\u001b[49m \u001b[38;5;28;01mfor\u001b[39;00m item \u001b[38;5;129;01min\u001b[39;00m s\u001b[38;5;241m.\u001b[39mstrip()\u001b[38;5;241m.\u001b[39msplit(\u001b[38;5;124m'\u001b[39m\u001b[38;5;124m \u001b[39m\u001b[38;5;124m'\u001b[39m)]\n\u001b[1;32m      5\u001b[0m \u001b[38;5;28;01mexcept\u001b[39;00m \u001b[38;5;167;01mValueError\u001b[39;00m \u001b[38;5;28;01mas\u001b[39;00m e:\n\u001b[1;32m      6\u001b[0m     \u001b[38;5;66;03m# Raise an error if any part of the string cannot be converted to an integer\u001b[39;00m\n",
      "\u001b[0;31mValueError\u001b[0m: invalid literal for int() with base 10: ''",
      "\nThe above exception was the direct cause of the following exception:\n",
      "\u001b[0;31mValueError\u001b[0m                                Traceback (most recent call last)",
      "Cell \u001b[0;32mIn[32], line 10\u001b[0m\n\u001b[1;32m      7\u001b[0m \u001b[38;5;28;01mif\u001b[39;00m a \u001b[38;5;241m==\u001b[39m \u001b[38;5;124m\"\u001b[39m\u001b[38;5;124mq\u001b[39m\u001b[38;5;124m\"\u001b[39m:\n\u001b[1;32m      8\u001b[0m     \u001b[38;5;28;01mbreak\u001b[39;00m\n\u001b[0;32m---> 10\u001b[0m actions \u001b[38;5;241m=\u001b[39m \u001b[43mstring_to_int_list\u001b[49m\u001b[43m(\u001b[49m\u001b[43ma\u001b[49m\u001b[43m)\u001b[49m\n\u001b[1;32m     11\u001b[0m state, reward, done, truncated, info \u001b[38;5;241m=\u001b[39m m\u001b[38;5;241m.\u001b[39mstep(actions)\n\u001b[1;32m     13\u001b[0m \u001b[38;5;28;01mif\u001b[39;00m done:\n",
      "Cell \u001b[0;32mIn[29], line 7\u001b[0m, in \u001b[0;36mstring_to_int_list\u001b[0;34m(s)\u001b[0m\n\u001b[1;32m      4\u001b[0m     \u001b[38;5;28;01mreturn\u001b[39;00m [\u001b[38;5;28mint\u001b[39m(item\u001b[38;5;241m.\u001b[39mstrip()) \u001b[38;5;28;01mfor\u001b[39;00m item \u001b[38;5;129;01min\u001b[39;00m s\u001b[38;5;241m.\u001b[39mstrip()\u001b[38;5;241m.\u001b[39msplit(\u001b[38;5;124m'\u001b[39m\u001b[38;5;124m \u001b[39m\u001b[38;5;124m'\u001b[39m)]\n\u001b[1;32m      5\u001b[0m \u001b[38;5;28;01mexcept\u001b[39;00m \u001b[38;5;167;01mValueError\u001b[39;00m \u001b[38;5;28;01mas\u001b[39;00m e:\n\u001b[1;32m      6\u001b[0m     \u001b[38;5;66;03m# Raise an error if any part of the string cannot be converted to an integer\u001b[39;00m\n\u001b[0;32m----> 7\u001b[0m     \u001b[38;5;28;01mraise\u001b[39;00m \u001b[38;5;167;01mValueError\u001b[39;00m(\u001b[38;5;124mf\u001b[39m\u001b[38;5;124m\"\u001b[39m\u001b[38;5;124mInput string is improperly formatted or contains non-integer values: \u001b[39m\u001b[38;5;132;01m{\u001b[39;00ms\u001b[38;5;132;01m}\u001b[39;00m\u001b[38;5;124m\"\u001b[39m) \u001b[38;5;28;01mfrom\u001b[39;00m \u001b[38;5;21;01me\u001b[39;00m\n",
      "\u001b[0;31mValueError\u001b[0m: Input string is improperly formatted or contains non-integer values: "
     ]
    }
   ],
   "source": [
    "while True:\n",
    "    m.render()\n",
    "    agent_actions = [Action.STAY] * m.n_agents\n",
    "\n",
    "    a = input(f\"Actions as space separated str of int: \")\n",
    "\n",
    "    if a == \"q\":\n",
    "        break\n",
    "\n",
    "    actions = string_to_int_list(a)\n",
    "    state, reward, done, truncated, info = m.step(actions)\n",
    "    \n",
    "    if done:\n",
    "        break"
   ]
  },
  {
   "cell_type": "code",
   "execution_count": 33,
   "metadata": {},
   "outputs": [
    {
     "data": {
      "text/plain": [
       "array([1., 0., 1., 1.])"
      ]
     },
     "execution_count": 33,
     "metadata": {},
     "output_type": "execute_result"
    }
   ],
   "source": [
    "m.alive_agents"
   ]
  },
  {
   "cell_type": "code",
   "execution_count": 34,
   "metadata": {},
   "outputs": [
    {
     "name": "stdout",
     "output_type": "stream",
     "text": [
      "[0, 3, 1, 2]\n"
     ]
    }
   ],
   "source": [
    "print(m.agent_list_order)"
   ]
  },
  {
   "cell_type": "code",
   "execution_count": 35,
   "metadata": {},
   "outputs": [
    {
     "data": {
      "text/plain": [
       "{'agent_position': (3, 8),\n",
       " 'agent_alive': 1.0,\n",
       " 'other_agent_positions': [(6, 2), (5, 0), (3, 1)],\n",
       " 'other_agents_alive': [1.0, 0.0, 1.0],\n",
       " 'completed_jobs': array([0., 0.]),\n",
       " 'job_positions': [(2, 1), (8, 5)],\n",
       " 'agent_used_tag_action': 0.0,\n",
       " 'agent_tag_count': 0.0,\n",
       " 'tag_timer': 9,\n",
       " 'other_agents_tag_counts': [0.0, 0.0, 0.0]}"
      ]
     },
     "execution_count": 35,
     "metadata": {},
     "output_type": "execute_result"
    }
   ],
   "source": [
    "m.get_agent_states()[0].__dict__"
   ]
  },
  {
   "cell_type": "code",
   "execution_count": 36,
   "metadata": {},
   "outputs": [
    {
     "data": {
      "text/plain": [
       "{'agent_position': (5, 0),\n",
       " 'agent_alive': 0.0,\n",
       " 'other_agent_positions': [(3, 8), (6, 2), (3, 1)],\n",
       " 'other_agents_alive': [1.0, 1.0, 1.0],\n",
       " 'completed_jobs': array([0., 0.]),\n",
       " 'job_positions': [(2, 1), (8, 5)],\n",
       " 'agent_used_tag_action': 0.0,\n",
       " 'agent_tag_count': 0.0,\n",
       " 'tag_timer': 9,\n",
       " 'other_agents_tag_counts': [0.0, 0.0, 0.0]}"
      ]
     },
     "execution_count": 36,
     "metadata": {},
     "output_type": "execute_result"
    }
   ],
   "source": [
    "m.get_agent_states()[1].__dict__"
   ]
  },
  {
   "cell_type": "code",
   "execution_count": 37,
   "metadata": {},
   "outputs": [
    {
     "data": {
      "text/plain": [
       "{'agent_position': (3, 1),\n",
       " 'agent_alive': 1.0,\n",
       " 'other_agent_positions': [(3, 8), (6, 2), (5, 0)],\n",
       " 'other_agents_alive': [1.0, 1.0, 0.0],\n",
       " 'completed_jobs': array([0., 0.]),\n",
       " 'job_positions': [(2, 1), (8, 5)],\n",
       " 'agent_used_tag_action': 0.0,\n",
       " 'agent_tag_count': 0.0,\n",
       " 'tag_timer': 9,\n",
       " 'other_agents_tag_counts': [0.0, 0.0, 0.0]}"
      ]
     },
     "execution_count": 37,
     "metadata": {},
     "output_type": "execute_result"
    }
   ],
   "source": [
    "m.get_agent_states()[2].__dict__"
   ]
  },
  {
   "cell_type": "code",
   "execution_count": 38,
   "metadata": {},
   "outputs": [
    {
     "data": {
      "text/plain": [
       "{'agent_position': (6, 2),\n",
       " 'agent_alive': 1.0,\n",
       " 'other_agent_positions': [(3, 8), (5, 0), (3, 1)],\n",
       " 'other_agents_alive': [1.0, 0.0, 1.0],\n",
       " 'completed_jobs': array([0., 0.]),\n",
       " 'job_positions': [(2, 1), (8, 5)],\n",
       " 'agent_used_tag_action': 0.0,\n",
       " 'agent_tag_count': 0.0,\n",
       " 'tag_timer': 9,\n",
       " 'other_agents_tag_counts': [0.0, 0.0, 0.0]}"
      ]
     },
     "execution_count": 38,
     "metadata": {},
     "output_type": "execute_result"
    }
   ],
   "source": [
    "m.get_agent_states()[3].__dict__"
   ]
  },
  {
   "cell_type": "code",
   "execution_count": null,
   "metadata": {},
   "outputs": [],
   "source": []
  }
 ],
 "metadata": {
  "kernelspec": {
   "display_name": "Python 3",
   "language": "python",
   "name": "python3"
  },
  "language_info": {
   "codemirror_mode": {
    "name": "ipython",
    "version": 3
   },
   "file_extension": ".py",
   "mimetype": "text/x-python",
   "name": "python",
   "nbconvert_exporter": "python",
   "pygments_lexer": "ipython3",
   "version": "3.10.13"
  }
 },
 "nbformat": 4,
 "nbformat_minor": 2
}
