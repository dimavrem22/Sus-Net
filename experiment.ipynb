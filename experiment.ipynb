{
 "cells": [
  {
   "cell_type": "code",
   "execution_count": null,
   "metadata": {},
   "outputs": [],
   "source": [
    "from env import FourRoomEnv, Action"
   ]
  },
  {
   "cell_type": "code",
   "execution_count": null,
   "metadata": {},
   "outputs": [],
   "source": [
    "def string_to_int_list(s):\n",
    "\n",
    "    try:\n",
    "        return [int(item.strip()) for item in s.strip().split(' ')]\n",
    "    except ValueError as e:\n",
    "        # Raise an error if any part of the string cannot be converted to an integer\n",
    "        raise ValueError(f\"Input string is improperly formatted or contains non-integer values: {s}\") from e"
   ]
  },
  {
   "cell_type": "code",
   "execution_count": null,
   "metadata": {},
   "outputs": [],
   "source": [
    "m = FourRoomEnv(n_imposters=2, n_crew=4, n_jobs=2)"
   ]
  },
  {
   "cell_type": "code",
   "execution_count": null,
   "metadata": {},
   "outputs": [],
   "source": [
    "m.reset()\n",
    "while True:\n",
    "    m.render()\n",
    "    agent_actions = [Action.STAY] * m.n_agents\n",
    "\n",
    "    a = input(f\"Actions as space separated str of int: \")\n",
    "\n",
    "    if a == \"q\":\n",
    "        break\n",
    "\n",
    "    actions = string_to_int_list(a)\n",
    "    actions = [Action(i) for i in actions]\n",
    "\n",
    "    state, reward, done, truncated, info = m.step(actions)\n",
    "    \n",
    "    if done:\n",
    "        break"
   ]
  },
  {
   "cell_type": "code",
   "execution_count": null,
   "metadata": {},
   "outputs": [],
   "source": []
  }
 ],
 "metadata": {
  "kernelspec": {
   "display_name": "Python 3",
   "language": "python",
   "name": "python3"
  },
  "language_info": {
   "codemirror_mode": {
    "name": "ipython",
    "version": 3
   },
   "file_extension": ".py",
   "mimetype": "text/x-python",
   "name": "python",
   "nbconvert_exporter": "python",
   "pygments_lexer": "ipython3",
   "version": "3.12.1"
  }
 },
 "nbformat": 4,
 "nbformat_minor": 2
}
